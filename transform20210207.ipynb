{
  "nbformat": 4,
  "nbformat_minor": 0,
  "metadata": {
    "accelerator": "GPU",
    "colab": {
      "name": "transform20210207.ipynb",
      "provenance": [],
      "collapsed_sections": [],
      "toc_visible": true
    },
    "kernelspec": {
      "display_name": "Python 3",
      "language": "python",
      "name": "python3"
    },
    "language_info": {
      "codemirror_mode": {
        "name": "ipython",
        "version": 3
      },
      "file_extension": ".py",
      "mimetype": "text/x-python",
      "name": "python",
      "nbconvert_exporter": "python",
      "pygments_lexer": "ipython3",
      "version": "3.6.9"
    }
  },
  "cells": [
    {
      "cell_type": "markdown",
      "metadata": {
        "id": "dm93S7q9R6hv"
      },
      "source": [
        "# 导入数据"
      ]
    },
    {
      "cell_type": "code",
      "metadata": {
        "colab": {
          "base_uri": "https://localhost:8080/"
        },
        "id": "7e3uu9LGVC3C",
        "outputId": "ce25ba52-80e6-4b44-b684-b30617ad8808"
      },
      "source": [
        "!git clone https://github.com/sunyingjian/tutorials-2016.git"
      ],
      "execution_count": null,
      "outputs": [
        {
          "output_type": "stream",
          "text": [
            "Cloning into 'tutorials-2016'...\n",
            "remote: Enumerating objects: 161, done.\u001b[K\n",
            "remote: Total 161 (delta 0), reused 0 (delta 0), pack-reused 161\u001b[K\n",
            "Receiving objects: 100% (161/161), 16.86 MiB | 15.38 MiB/s, done.\n",
            "Resolving deltas: 100% (64/64), done.\n"
          ],
          "name": "stdout"
        }
      ]
    },
    {
      "cell_type": "code",
      "metadata": {
        "colab": {
          "base_uri": "https://localhost:8080/"
        },
        "id": "L1CbkKBselzz",
        "outputId": "df0c7ff9-779a-4bbe-9097-984afbbbfc1e"
      },
      "source": [
        "!git clone https://github.com/sunyingjian/numpy-.git"
      ],
      "execution_count": null,
      "outputs": [
        {
          "output_type": "stream",
          "text": [
            "Cloning into 'numpy-'...\n",
            "remote: Enumerating objects: 12, done.\u001b[K\n",
            "remote: Counting objects: 100% (12/12), done.\u001b[K\n",
            "remote: Compressing objects: 100% (12/12), done.\u001b[K\n",
            "remote: Total 415 (delta 3), reused 0 (delta 0), pack-reused 403\u001b[K\n",
            "Receiving objects: 100% (415/415), 202.24 MiB | 27.62 MiB/s, done.\n",
            "Resolving deltas: 100% (117/117), done.\n",
            "Checking out files: 100% (206/206), done.\n"
          ],
          "name": "stdout"
        }
      ]
    },
    {
      "cell_type": "code",
      "metadata": {
        "colab": {
          "base_uri": "https://localhost:8080/"
        },
        "id": "0kERhLWAdA4N",
        "outputId": "6b7a892d-9318-4122-cddb-5e7f90a0f867"
      },
      "source": [
        "! /opt/bin/nvidia-smi"
      ],
      "execution_count": null,
      "outputs": [
        {
          "output_type": "stream",
          "text": [
            "Mon Feb  1 06:22:52 2021       \n",
            "+-----------------------------------------------------------------------------+\n",
            "| NVIDIA-SMI 418.67       Driver Version: 418.67       CUDA Version: 10.1     |\n",
            "|-------------------------------+----------------------+----------------------+\n",
            "| GPU  Name        Persistence-M| Bus-Id        Disp.A | Volatile Uncorr. ECC |\n",
            "| Fan  Temp  Perf  Pwr:Usage/Cap|         Memory-Usage | GPU-Util  Compute M. |\n",
            "|===============================+======================+======================|\n",
            "|   0  Tesla P100-PCIE...  Off  | 00000000:00:04.0 Off |                    0 |\n",
            "| N/A   47C    P0    29W / 250W |      0MiB / 16280MiB |      0%      Default |\n",
            "+-------------------------------+----------------------+----------------------+\n",
            "                                                                               \n",
            "+-----------------------------------------------------------------------------+\n",
            "| Processes:                                                       GPU Memory |\n",
            "|  GPU       PID   Type   Process name                             Usage      |\n",
            "|=============================================================================|\n",
            "|  No running processes found                                                 |\n",
            "+-----------------------------------------------------------------------------+\n"
          ],
          "name": "stdout"
        }
      ]
    },
    {
      "cell_type": "code",
      "metadata": {
        "colab": {
          "background_save": true,
          "base_uri": "https://localhost:8080/"
        },
        "id": "mKTxChj1SjOK",
        "outputId": "60241113-e185-4c59-dbbb-c44a3770eace"
      },
      "source": [
        "  !pip install tf-nightly"
      ],
      "execution_count": null,
      "outputs": [
        {
          "output_type": "stream",
          "text": [
            "Collecting tf-nightly\n",
            "\u001b[?25l  Downloading https://files.pythonhosted.org/packages/d1/23/7229a4c782fca28698dc8841b5c8612fe0d4c83663be54a1655e4de4f733/tf_nightly-2.5.0.dev20210204-cp36-cp36m-manylinux2010_x86_64.whl (403.7MB)\n",
            "\u001b[K     |████████████████████████████████| 403.7MB 40kB/s \n",
            "\u001b[?25hRequirement already satisfied: flatbuffers~=1.12.0 in /usr/local/lib/python3.6/dist-packages (from tf-nightly) (1.12)\n",
            "Collecting tf-estimator-nightly~=2.5.0.dev\n",
            "\u001b[?25l  Downloading https://files.pythonhosted.org/packages/e0/ab/adb8d79f64bf9a75bb8fc72ec577cb4587bf4412bcdbfd39659f09b7e5bd/tf_estimator_nightly-2.5.0.dev2021020601-py2.py3-none-any.whl (462kB)\n",
            "\u001b[K     |████████████████████████████████| 471kB 60.6MB/s \n",
            "\u001b[?25hRequirement already satisfied: wrapt~=1.12.1 in /usr/local/lib/python3.6/dist-packages (from tf-nightly) (1.12.1)\n",
            "Requirement already satisfied: six~=1.15.0 in /usr/local/lib/python3.6/dist-packages (from tf-nightly) (1.15.0)\n",
            "Requirement already satisfied: typing-extensions~=3.7.4 in /usr/local/lib/python3.6/dist-packages (from tf-nightly) (3.7.4.3)\n",
            "Requirement already satisfied: numpy~=1.19.2 in /usr/local/lib/python3.6/dist-packages (from tf-nightly) (1.19.5)\n",
            "Collecting grpcio~=1.34.0\n",
            "\u001b[?25l  Downloading https://files.pythonhosted.org/packages/ab/f5/3d3bcb82beae990021cbf6877456a1aab650e68c902194566edd6a73e37c/grpcio-1.34.1-cp36-cp36m-manylinux2014_x86_64.whl (4.0MB)\n",
            "\u001b[K     |████████████████████████████████| 4.0MB 51.1MB/s \n",
            "\u001b[?25hRequirement already satisfied: opt-einsum~=3.3.0 in /usr/local/lib/python3.6/dist-packages (from tf-nightly) (3.3.0)\n",
            "Requirement already satisfied: google-pasta~=0.2 in /usr/local/lib/python3.6/dist-packages (from tf-nightly) (0.2.0)\n",
            "Requirement already satisfied: protobuf>=3.9.2 in /usr/local/lib/python3.6/dist-packages (from tf-nightly) (3.12.4)\n",
            "Requirement already satisfied: wheel~=0.35 in /usr/local/lib/python3.6/dist-packages (from tf-nightly) (0.36.2)\n",
            "Collecting gast==0.4.0\n",
            "  Downloading https://files.pythonhosted.org/packages/b6/48/583c032b79ae5b3daa02225a675aeb673e58d2cb698e78510feceb11958c/gast-0.4.0-py3-none-any.whl\n",
            "Collecting h5py~=3.1.0\n",
            "\u001b[?25l  Downloading https://files.pythonhosted.org/packages/70/7a/e53e500335afb6b1aade11227cdf107fca54106a1dca5c9d13242a043f3b/h5py-3.1.0-cp36-cp36m-manylinux1_x86_64.whl (4.0MB)\n",
            "\u001b[K     |████████████████████████████████| 4.0MB 52.3MB/s \n",
            "\u001b[?25hCollecting tb-nightly~=2.5.0.a\n",
            "\u001b[?25l  Downloading https://files.pythonhosted.org/packages/ed/2c/8c092be587be25bd04f9a84e17bc283c32d666d6283156456dd5e90737cb/tb_nightly-2.5.0a20210206-py3-none-any.whl (5.9MB)\n",
            "\u001b[K     |████████████████████████████████| 5.9MB 58.2MB/s \n",
            "\u001b[?25hRequirement already satisfied: termcolor~=1.1.0 in /usr/local/lib/python3.6/dist-packages (from tf-nightly) (1.1.0)\n",
            "Requirement already satisfied: keras-preprocessing~=1.1.2 in /usr/local/lib/python3.6/dist-packages (from tf-nightly) (1.1.2)\n",
            "Requirement already satisfied: astunparse~=1.6.3 in /usr/local/lib/python3.6/dist-packages (from tf-nightly) (1.6.3)\n",
            "Requirement already satisfied: absl-py~=0.10 in /usr/local/lib/python3.6/dist-packages (from tf-nightly) (0.10.0)\n",
            "Requirement already satisfied: setuptools in /usr/local/lib/python3.6/dist-packages (from protobuf>=3.9.2->tf-nightly) (53.0.0)\n",
            "Collecting cached-property; python_version < \"3.8\"\n",
            "  Downloading https://files.pythonhosted.org/packages/48/19/f2090f7dad41e225c7f2326e4cfe6fff49e57dedb5b53636c9551f86b069/cached_property-1.5.2-py2.py3-none-any.whl\n",
            "Requirement already satisfied: google-auth-oauthlib<0.5,>=0.4.1 in /usr/local/lib/python3.6/dist-packages (from tb-nightly~=2.5.0.a->tf-nightly) (0.4.2)\n",
            "Requirement already satisfied: google-auth<2,>=1.6.3 in /usr/local/lib/python3.6/dist-packages (from tb-nightly~=2.5.0.a->tf-nightly) (1.24.0)\n",
            "Requirement already satisfied: requests<3,>=2.21.0 in /usr/local/lib/python3.6/dist-packages (from tb-nightly~=2.5.0.a->tf-nightly) (2.23.0)\n",
            "Requirement already satisfied: markdown>=2.6.8 in /usr/local/lib/python3.6/dist-packages (from tb-nightly~=2.5.0.a->tf-nightly) (3.3.3)\n",
            "Requirement already satisfied: tensorboard-plugin-wit>=1.6.0 in /usr/local/lib/python3.6/dist-packages (from tb-nightly~=2.5.0.a->tf-nightly) (1.8.0)\n",
            "Requirement already satisfied: werkzeug>=0.11.15 in /usr/local/lib/python3.6/dist-packages (from tb-nightly~=2.5.0.a->tf-nightly) (1.0.1)\n",
            "Requirement already satisfied: requests-oauthlib>=0.7.0 in /usr/local/lib/python3.6/dist-packages (from google-auth-oauthlib<0.5,>=0.4.1->tb-nightly~=2.5.0.a->tf-nightly) (1.3.0)\n",
            "Requirement already satisfied: pyasn1-modules>=0.2.1 in /usr/local/lib/python3.6/dist-packages (from google-auth<2,>=1.6.3->tb-nightly~=2.5.0.a->tf-nightly) (0.2.8)\n",
            "Requirement already satisfied: cachetools<5.0,>=2.0.0 in /usr/local/lib/python3.6/dist-packages (from google-auth<2,>=1.6.3->tb-nightly~=2.5.0.a->tf-nightly) (4.2.1)\n",
            "Requirement already satisfied: rsa<5,>=3.1.4; python_version >= \"3.6\" in /usr/local/lib/python3.6/dist-packages (from google-auth<2,>=1.6.3->tb-nightly~=2.5.0.a->tf-nightly) (4.7)\n",
            "Requirement already satisfied: chardet<4,>=3.0.2 in /usr/local/lib/python3.6/dist-packages (from requests<3,>=2.21.0->tb-nightly~=2.5.0.a->tf-nightly) (3.0.4)\n",
            "Requirement already satisfied: idna<3,>=2.5 in /usr/local/lib/python3.6/dist-packages (from requests<3,>=2.21.0->tb-nightly~=2.5.0.a->tf-nightly) (2.10)\n",
            "Requirement already satisfied: urllib3!=1.25.0,!=1.25.1,<1.26,>=1.21.1 in /usr/local/lib/python3.6/dist-packages (from requests<3,>=2.21.0->tb-nightly~=2.5.0.a->tf-nightly) (1.24.3)\n",
            "Requirement already satisfied: certifi>=2017.4.17 in /usr/local/lib/python3.6/dist-packages (from requests<3,>=2.21.0->tb-nightly~=2.5.0.a->tf-nightly) (2020.12.5)\n",
            "Requirement already satisfied: importlib-metadata; python_version < \"3.8\" in /usr/local/lib/python3.6/dist-packages (from markdown>=2.6.8->tb-nightly~=2.5.0.a->tf-nightly) (3.4.0)\n",
            "Requirement already satisfied: oauthlib>=3.0.0 in /usr/local/lib/python3.6/dist-packages (from requests-oauthlib>=0.7.0->google-auth-oauthlib<0.5,>=0.4.1->tb-nightly~=2.5.0.a->tf-nightly) (3.1.0)\n",
            "Requirement already satisfied: pyasn1<0.5.0,>=0.4.6 in /usr/local/lib/python3.6/dist-packages (from pyasn1-modules>=0.2.1->google-auth<2,>=1.6.3->tb-nightly~=2.5.0.a->tf-nightly) (0.4.8)\n",
            "Requirement already satisfied: zipp>=0.5 in /usr/local/lib/python3.6/dist-packages (from importlib-metadata; python_version < \"3.8\"->markdown>=2.6.8->tb-nightly~=2.5.0.a->tf-nightly) (3.4.0)\n",
            "\u001b[31mERROR: tensorflow 2.4.1 has requirement gast==0.3.3, but you'll have gast 0.4.0 which is incompatible.\u001b[0m\n",
            "\u001b[31mERROR: tensorflow 2.4.1 has requirement grpcio~=1.32.0, but you'll have grpcio 1.34.1 which is incompatible.\u001b[0m\n",
            "\u001b[31mERROR: tensorflow 2.4.1 has requirement h5py~=2.10.0, but you'll have h5py 3.1.0 which is incompatible.\u001b[0m\n",
            "Installing collected packages: tf-estimator-nightly, grpcio, gast, cached-property, h5py, tb-nightly, tf-nightly\n",
            "  Found existing installation: grpcio 1.32.0\n",
            "    Uninstalling grpcio-1.32.0:\n",
            "      Successfully uninstalled grpcio-1.32.0\n",
            "  Found existing installation: gast 0.3.3\n",
            "    Uninstalling gast-0.3.3:\n",
            "      Successfully uninstalled gast-0.3.3\n",
            "  Found existing installation: h5py 2.10.0\n",
            "    Uninstalling h5py-2.10.0:\n",
            "      Successfully uninstalled h5py-2.10.0\n",
            "Successfully installed cached-property-1.5.2 gast-0.4.0 grpcio-1.34.1 h5py-3.1.0 tb-nightly-2.5.0a20210206 tf-estimator-nightly-2.5.0.dev2021020601 tf-nightly-2.5.0.dev20210204\n"
          ],
          "name": "stdout"
        }
      ]
    },
    {
      "cell_type": "code",
      "metadata": {
        "colab": {
          "background_save": true
        },
        "id": "kNuEGLZZR6hv"
      },
      "source": [
        "import tensorflow as tf\n",
        "import pandas as pd\n",
        "import numpy as np\n",
        "from matplotlib import pyplot as plt\n",
        "from tensorflow import keras\n",
        "%matplotlib inline"
      ],
      "execution_count": null,
      "outputs": []
    },
    {
      "cell_type": "code",
      "metadata": {
        "id": "GKjMViqMR6hw"
      },
      "source": [
        "training_data = pd.read_csv('/content/numpy-/美国分井/train_data_处理完成 (1).csv')\n",
        "blind_data = pd.read_csv('/content/numpy-/美国分井/blind_data_处理完成.csv')"
      ],
      "execution_count": 7,
      "outputs": []
    },
    {
      "cell_type": "code",
      "metadata": {
        "id": "9aCB_eP1Ue66"
      },
      "source": [
        "blind = pd.read_csv('/content/numpy-/美国油田/blind_data_wellname.csv')"
      ],
      "execution_count": 10,
      "outputs": []
    },
    {
      "cell_type": "code",
      "metadata": {
        "colab": {
          "base_uri": "https://localhost:8080/",
          "height": 406
        },
        "id": "oUFDfziXNXLj",
        "outputId": "f5f616cb-72af-429d-80d3-def16c349020"
      },
      "source": [
        "training_data"
      ],
      "execution_count": 8,
      "outputs": [
        {
          "output_type": "execute_result",
          "data": {
            "text/html": [
              "<div>\n",
              "<style scoped>\n",
              "    .dataframe tbody tr th:only-of-type {\n",
              "        vertical-align: middle;\n",
              "    }\n",
              "\n",
              "    .dataframe tbody tr th {\n",
              "        vertical-align: top;\n",
              "    }\n",
              "\n",
              "    .dataframe thead th {\n",
              "        text-align: right;\n",
              "    }\n",
              "</style>\n",
              "<table border=\"1\" class=\"dataframe\">\n",
              "  <thead>\n",
              "    <tr style=\"text-align: right;\">\n",
              "      <th></th>\n",
              "      <th>Unnamed: 0</th>\n",
              "      <th>Formation</th>\n",
              "      <th>Depth</th>\n",
              "      <th>GR</th>\n",
              "      <th>ILD_log10</th>\n",
              "      <th>DeltaPHI</th>\n",
              "      <th>PHIND</th>\n",
              "      <th>PE</th>\n",
              "      <th>NM_M</th>\n",
              "      <th>RELPOS</th>\n",
              "      <th>Facies</th>\n",
              "      <th>Well Name</th>\n",
              "    </tr>\n",
              "  </thead>\n",
              "  <tbody>\n",
              "    <tr>\n",
              "      <th>0</th>\n",
              "      <td>0</td>\n",
              "      <td>0.076923</td>\n",
              "      <td>0.399818</td>\n",
              "      <td>0.298966</td>\n",
              "      <td>0.458149</td>\n",
              "      <td>0.776042</td>\n",
              "      <td>0.219321</td>\n",
              "      <td>0.557385</td>\n",
              "      <td>0.0</td>\n",
              "      <td>1.000000</td>\n",
              "      <td>3</td>\n",
              "      <td>7</td>\n",
              "    </tr>\n",
              "    <tr>\n",
              "      <th>1</th>\n",
              "      <td>1</td>\n",
              "      <td>0.076923</td>\n",
              "      <td>0.400729</td>\n",
              "      <td>0.302738</td>\n",
              "      <td>0.456157</td>\n",
              "      <td>0.888021</td>\n",
              "      <td>0.231865</td>\n",
              "      <td>0.494046</td>\n",
              "      <td>0.0</td>\n",
              "      <td>0.978788</td>\n",
              "      <td>3</td>\n",
              "      <td>7</td>\n",
              "    </tr>\n",
              "    <tr>\n",
              "      <th>2</th>\n",
              "      <td>2</td>\n",
              "      <td>0.076923</td>\n",
              "      <td>0.401639</td>\n",
              "      <td>0.306417</td>\n",
              "      <td>0.454165</td>\n",
              "      <td>0.903646</td>\n",
              "      <td>0.241224</td>\n",
              "      <td>0.430707</td>\n",
              "      <td>0.0</td>\n",
              "      <td>0.956566</td>\n",
              "      <td>3</td>\n",
              "      <td>7</td>\n",
              "    </tr>\n",
              "    <tr>\n",
              "      <th>3</th>\n",
              "      <td>3</td>\n",
              "      <td>0.076923</td>\n",
              "      <td>0.402550</td>\n",
              "      <td>0.339247</td>\n",
              "      <td>0.452173</td>\n",
              "      <td>0.880208</td>\n",
              "      <td>0.242479</td>\n",
              "      <td>0.418039</td>\n",
              "      <td>0.0</td>\n",
              "      <td>0.935354</td>\n",
              "      <td>3</td>\n",
              "      <td>7</td>\n",
              "    </tr>\n",
              "    <tr>\n",
              "      <th>4</th>\n",
              "      <td>4</td>\n",
              "      <td>0.076923</td>\n",
              "      <td>0.403461</td>\n",
              "      <td>0.285601</td>\n",
              "      <td>0.446860</td>\n",
              "      <td>0.869792</td>\n",
              "      <td>0.246049</td>\n",
              "      <td>0.405371</td>\n",
              "      <td>0.0</td>\n",
              "      <td>0.914141</td>\n",
              "      <td>3</td>\n",
              "      <td>7</td>\n",
              "    </tr>\n",
              "    <tr>\n",
              "      <th>...</th>\n",
              "      <td>...</td>\n",
              "      <td>...</td>\n",
              "      <td>...</td>\n",
              "      <td>...</td>\n",
              "      <td>...</td>\n",
              "      <td>...</td>\n",
              "      <td>...</td>\n",
              "      <td>...</td>\n",
              "      <td>...</td>\n",
              "      <td>...</td>\n",
              "      <td>...</td>\n",
              "      <td>...</td>\n",
              "    </tr>\n",
              "    <tr>\n",
              "      <th>3227</th>\n",
              "      <td>3227</td>\n",
              "      <td>0.923077</td>\n",
              "      <td>0.996357</td>\n",
              "      <td>0.155858</td>\n",
              "      <td>0.646070</td>\n",
              "      <td>0.565833</td>\n",
              "      <td>0.129373</td>\n",
              "      <td>0.432860</td>\n",
              "      <td>1.0</td>\n",
              "      <td>0.681818</td>\n",
              "      <td>5</td>\n",
              "      <td>0</td>\n",
              "    </tr>\n",
              "    <tr>\n",
              "      <th>3228</th>\n",
              "      <td>3228</td>\n",
              "      <td>0.923077</td>\n",
              "      <td>0.997268</td>\n",
              "      <td>0.145818</td>\n",
              "      <td>0.650055</td>\n",
              "      <td>0.576589</td>\n",
              "      <td>0.144021</td>\n",
              "      <td>0.398277</td>\n",
              "      <td>1.0</td>\n",
              "      <td>0.673737</td>\n",
              "      <td>5</td>\n",
              "      <td>0</td>\n",
              "    </tr>\n",
              "    <tr>\n",
              "      <th>3229</th>\n",
              "      <td>3229</td>\n",
              "      <td>0.923077</td>\n",
              "      <td>0.998179</td>\n",
              "      <td>0.169829</td>\n",
              "      <td>0.657359</td>\n",
              "      <td>0.594401</td>\n",
              "      <td>0.144021</td>\n",
              "      <td>0.378769</td>\n",
              "      <td>1.0</td>\n",
              "      <td>0.665657</td>\n",
              "      <td>5</td>\n",
              "      <td>0</td>\n",
              "    </tr>\n",
              "    <tr>\n",
              "      <th>3230</th>\n",
              "      <td>3230</td>\n",
              "      <td>0.923077</td>\n",
              "      <td>0.999089</td>\n",
              "      <td>0.177978</td>\n",
              "      <td>0.658023</td>\n",
              "      <td>0.598516</td>\n",
              "      <td>0.138135</td>\n",
              "      <td>0.373955</td>\n",
              "      <td>1.0</td>\n",
              "      <td>0.657576</td>\n",
              "      <td>5</td>\n",
              "      <td>0</td>\n",
              "    </tr>\n",
              "    <tr>\n",
              "      <th>3231</th>\n",
              "      <td>3231</td>\n",
              "      <td>0.923077</td>\n",
              "      <td>1.000000</td>\n",
              "      <td>0.171282</td>\n",
              "      <td>0.661343</td>\n",
              "      <td>0.586172</td>\n",
              "      <td>0.118065</td>\n",
              "      <td>0.392070</td>\n",
              "      <td>1.0</td>\n",
              "      <td>0.649495</td>\n",
              "      <td>5</td>\n",
              "      <td>0</td>\n",
              "    </tr>\n",
              "  </tbody>\n",
              "</table>\n",
              "<p>3232 rows × 12 columns</p>\n",
              "</div>"
            ],
            "text/plain": [
              "      Unnamed: 0  Formation     Depth  ...    RELPOS  Facies  Well Name\n",
              "0              0   0.076923  0.399818  ...  1.000000       3          7\n",
              "1              1   0.076923  0.400729  ...  0.978788       3          7\n",
              "2              2   0.076923  0.401639  ...  0.956566       3          7\n",
              "3              3   0.076923  0.402550  ...  0.935354       3          7\n",
              "4              4   0.076923  0.403461  ...  0.914141       3          7\n",
              "...          ...        ...       ...  ...       ...     ...        ...\n",
              "3227        3227   0.923077  0.996357  ...  0.681818       5          0\n",
              "3228        3228   0.923077  0.997268  ...  0.673737       5          0\n",
              "3229        3229   0.923077  0.998179  ...  0.665657       5          0\n",
              "3230        3230   0.923077  0.999089  ...  0.657576       5          0\n",
              "3231        3231   0.923077  1.000000  ...  0.649495       5          0\n",
              "\n",
              "[3232 rows x 12 columns]"
            ]
          },
          "metadata": {
            "tags": []
          },
          "execution_count": 8
        }
      ]
    },
    {
      "cell_type": "code",
      "metadata": {
        "id": "BELUGB7HNhHz"
      },
      "source": [
        "training_data1 = pd.read_csv('/content/numpy-/block_TCN_处理完成.csv')"
      ],
      "execution_count": 11,
      "outputs": []
    },
    {
      "cell_type": "code",
      "metadata": {
        "colab": {
          "base_uri": "https://localhost:8080/",
          "height": 406
        },
        "id": "L-6VEKZtNnk4",
        "outputId": "938acf85-29ac-4556-9fc3-0a6904dc47e3"
      },
      "source": [
        "training_data1"
      ],
      "execution_count": 12,
      "outputs": [
        {
          "output_type": "execute_result",
          "data": {
            "text/html": [
              "<div>\n",
              "<style scoped>\n",
              "    .dataframe tbody tr th:only-of-type {\n",
              "        vertical-align: middle;\n",
              "    }\n",
              "\n",
              "    .dataframe tbody tr th {\n",
              "        vertical-align: top;\n",
              "    }\n",
              "\n",
              "    .dataframe thead th {\n",
              "        text-align: right;\n",
              "    }\n",
              "</style>\n",
              "<table border=\"1\" class=\"dataframe\">\n",
              "  <thead>\n",
              "    <tr style=\"text-align: right;\">\n",
              "      <th></th>\n",
              "      <th>Formation</th>\n",
              "      <th>Depth</th>\n",
              "      <th>GR</th>\n",
              "      <th>ILD_log10</th>\n",
              "      <th>DeltaPHI</th>\n",
              "      <th>PHIND</th>\n",
              "      <th>PE</th>\n",
              "      <th>NM_M</th>\n",
              "      <th>RELPOS</th>\n",
              "      <th>Facies</th>\n",
              "      <th>Well Name</th>\n",
              "    </tr>\n",
              "  </thead>\n",
              "  <tbody>\n",
              "    <tr>\n",
              "      <th>0</th>\n",
              "      <td>0.076923</td>\n",
              "      <td>0.000000</td>\n",
              "      <td>0.575189</td>\n",
              "      <td>0.289898</td>\n",
              "      <td>0.464680</td>\n",
              "      <td>0.348468</td>\n",
              "      <td>0.385598</td>\n",
              "      <td>0</td>\n",
              "      <td>1.000000</td>\n",
              "      <td>3</td>\n",
              "      <td>8</td>\n",
              "    </tr>\n",
              "    <tr>\n",
              "      <th>1</th>\n",
              "      <td>0.076923</td>\n",
              "      <td>0.001996</td>\n",
              "      <td>0.604475</td>\n",
              "      <td>0.272564</td>\n",
              "      <td>0.647994</td>\n",
              "      <td>0.433656</td>\n",
              "      <td>0.373814</td>\n",
              "      <td>0</td>\n",
              "      <td>0.973764</td>\n",
              "      <td>3</td>\n",
              "      <td>8</td>\n",
              "    </tr>\n",
              "    <tr>\n",
              "      <th>2</th>\n",
              "      <td>0.076923</td>\n",
              "      <td>0.003992</td>\n",
              "      <td>0.617873</td>\n",
              "      <td>0.270173</td>\n",
              "      <td>0.690625</td>\n",
              "      <td>0.473574</td>\n",
              "      <td>0.347765</td>\n",
              "      <td>0</td>\n",
              "      <td>0.948537</td>\n",
              "      <td>3</td>\n",
              "      <td>8</td>\n",
              "    </tr>\n",
              "    <tr>\n",
              "      <th>3</th>\n",
              "      <td>0.076923</td>\n",
              "      <td>0.005988</td>\n",
              "      <td>0.623511</td>\n",
              "      <td>0.270173</td>\n",
              "      <td>0.669310</td>\n",
              "      <td>0.488738</td>\n",
              "      <td>0.344505</td>\n",
              "      <td>0</td>\n",
              "      <td>0.922301</td>\n",
              "      <td>3</td>\n",
              "      <td>8</td>\n",
              "    </tr>\n",
              "    <tr>\n",
              "      <th>4</th>\n",
              "      <td>0.076923</td>\n",
              "      <td>0.007984</td>\n",
              "      <td>0.612382</td>\n",
              "      <td>0.265989</td>\n",
              "      <td>0.618152</td>\n",
              "      <td>0.473351</td>\n",
              "      <td>0.343765</td>\n",
              "      <td>0</td>\n",
              "      <td>0.896065</td>\n",
              "      <td>3</td>\n",
              "      <td>8</td>\n",
              "    </tr>\n",
              "    <tr>\n",
              "      <th>...</th>\n",
              "      <td>...</td>\n",
              "      <td>...</td>\n",
              "      <td>...</td>\n",
              "      <td>...</td>\n",
              "      <td>...</td>\n",
              "      <td>...</td>\n",
              "      <td>...</td>\n",
              "      <td>...</td>\n",
              "      <td>...</td>\n",
              "      <td>...</td>\n",
              "      <td>...</td>\n",
              "    </tr>\n",
              "    <tr>\n",
              "      <th>900</th>\n",
              "      <td>0.923077</td>\n",
              "      <td>0.992016</td>\n",
              "      <td>0.555516</td>\n",
              "      <td>0.335326</td>\n",
              "      <td>0.645820</td>\n",
              "      <td>0.398800</td>\n",
              "      <td>0.380910</td>\n",
              "      <td>1</td>\n",
              "      <td>0.399596</td>\n",
              "      <td>4</td>\n",
              "      <td>9</td>\n",
              "    </tr>\n",
              "    <tr>\n",
              "      <th>901</th>\n",
              "      <td>0.923077</td>\n",
              "      <td>0.994012</td>\n",
              "      <td>0.665442</td>\n",
              "      <td>0.361626</td>\n",
              "      <td>0.612994</td>\n",
              "      <td>0.411066</td>\n",
              "      <td>0.395389</td>\n",
              "      <td>1</td>\n",
              "      <td>0.387487</td>\n",
              "      <td>6</td>\n",
              "      <td>9</td>\n",
              "    </tr>\n",
              "    <tr>\n",
              "      <th>902</th>\n",
              "      <td>0.923077</td>\n",
              "      <td>0.996008</td>\n",
              "      <td>0.343731</td>\n",
              "      <td>0.371189</td>\n",
              "      <td>0.528542</td>\n",
              "      <td>0.474867</td>\n",
              "      <td>0.408255</td>\n",
              "      <td>1</td>\n",
              "      <td>0.375378</td>\n",
              "      <td>6</td>\n",
              "      <td>9</td>\n",
              "    </tr>\n",
              "    <tr>\n",
              "      <th>903</th>\n",
              "      <td>0.923077</td>\n",
              "      <td>0.998004</td>\n",
              "      <td>0.980854</td>\n",
              "      <td>0.325762</td>\n",
              "      <td>0.570746</td>\n",
              "      <td>0.474867</td>\n",
              "      <td>0.402142</td>\n",
              "      <td>1</td>\n",
              "      <td>0.363269</td>\n",
              "      <td>6</td>\n",
              "      <td>9</td>\n",
              "    </tr>\n",
              "    <tr>\n",
              "      <th>904</th>\n",
              "      <td>0.923077</td>\n",
              "      <td>1.000000</td>\n",
              "      <td>0.536747</td>\n",
              "      <td>0.355051</td>\n",
              "      <td>0.590101</td>\n",
              "      <td>0.496633</td>\n",
              "      <td>0.401388</td>\n",
              "      <td>1</td>\n",
              "      <td>0.351160</td>\n",
              "      <td>4</td>\n",
              "      <td>9</td>\n",
              "    </tr>\n",
              "  </tbody>\n",
              "</table>\n",
              "<p>905 rows × 11 columns</p>\n",
              "</div>"
            ],
            "text/plain": [
              "     Formation     Depth        GR  ...    RELPOS  Facies  Well Name\n",
              "0     0.076923  0.000000  0.575189  ...  1.000000       3          8\n",
              "1     0.076923  0.001996  0.604475  ...  0.973764       3          8\n",
              "2     0.076923  0.003992  0.617873  ...  0.948537       3          8\n",
              "3     0.076923  0.005988  0.623511  ...  0.922301       3          8\n",
              "4     0.076923  0.007984  0.612382  ...  0.896065       3          8\n",
              "..         ...       ...       ...  ...       ...     ...        ...\n",
              "900   0.923077  0.992016  0.555516  ...  0.399596       4          9\n",
              "901   0.923077  0.994012  0.665442  ...  0.387487       6          9\n",
              "902   0.923077  0.996008  0.343731  ...  0.375378       6          9\n",
              "903   0.923077  0.998004  0.980854  ...  0.363269       6          9\n",
              "904   0.923077  1.000000  0.536747  ...  0.351160       4          9\n",
              "\n",
              "[905 rows x 11 columns]"
            ]
          },
          "metadata": {
            "tags": []
          },
          "execution_count": 12
        }
      ]
    },
    {
      "cell_type": "code",
      "metadata": {
        "id": "5UvQsSCbNqzr"
      },
      "source": [
        "training_data = training_data.drop(columns='Unnamed: 0')"
      ],
      "execution_count": 13,
      "outputs": []
    },
    {
      "cell_type": "code",
      "metadata": {
        "id": "wKVIpmeDN0yd"
      },
      "source": [
        "training_data = pd.concat([training_data,training_data1])"
      ],
      "execution_count": 15,
      "outputs": []
    },
    {
      "cell_type": "code",
      "metadata": {
        "colab": {
          "base_uri": "https://localhost:8080/",
          "height": 406
        },
        "id": "Z0yjtk8OOOoF",
        "outputId": "4abf8d2b-f51b-4fa0-d091-56a227c12946"
      },
      "source": [
        "training_data"
      ],
      "execution_count": 16,
      "outputs": [
        {
          "output_type": "execute_result",
          "data": {
            "text/html": [
              "<div>\n",
              "<style scoped>\n",
              "    .dataframe tbody tr th:only-of-type {\n",
              "        vertical-align: middle;\n",
              "    }\n",
              "\n",
              "    .dataframe tbody tr th {\n",
              "        vertical-align: top;\n",
              "    }\n",
              "\n",
              "    .dataframe thead th {\n",
              "        text-align: right;\n",
              "    }\n",
              "</style>\n",
              "<table border=\"1\" class=\"dataframe\">\n",
              "  <thead>\n",
              "    <tr style=\"text-align: right;\">\n",
              "      <th></th>\n",
              "      <th>Formation</th>\n",
              "      <th>Depth</th>\n",
              "      <th>GR</th>\n",
              "      <th>ILD_log10</th>\n",
              "      <th>DeltaPHI</th>\n",
              "      <th>PHIND</th>\n",
              "      <th>PE</th>\n",
              "      <th>NM_M</th>\n",
              "      <th>RELPOS</th>\n",
              "      <th>Facies</th>\n",
              "      <th>Well Name</th>\n",
              "    </tr>\n",
              "  </thead>\n",
              "  <tbody>\n",
              "    <tr>\n",
              "      <th>0</th>\n",
              "      <td>0.076923</td>\n",
              "      <td>0.399818</td>\n",
              "      <td>0.298966</td>\n",
              "      <td>0.458149</td>\n",
              "      <td>0.776042</td>\n",
              "      <td>0.219321</td>\n",
              "      <td>0.557385</td>\n",
              "      <td>0.0</td>\n",
              "      <td>1.000000</td>\n",
              "      <td>3</td>\n",
              "      <td>7</td>\n",
              "    </tr>\n",
              "    <tr>\n",
              "      <th>1</th>\n",
              "      <td>0.076923</td>\n",
              "      <td>0.400729</td>\n",
              "      <td>0.302738</td>\n",
              "      <td>0.456157</td>\n",
              "      <td>0.888021</td>\n",
              "      <td>0.231865</td>\n",
              "      <td>0.494046</td>\n",
              "      <td>0.0</td>\n",
              "      <td>0.978788</td>\n",
              "      <td>3</td>\n",
              "      <td>7</td>\n",
              "    </tr>\n",
              "    <tr>\n",
              "      <th>2</th>\n",
              "      <td>0.076923</td>\n",
              "      <td>0.401639</td>\n",
              "      <td>0.306417</td>\n",
              "      <td>0.454165</td>\n",
              "      <td>0.903646</td>\n",
              "      <td>0.241224</td>\n",
              "      <td>0.430707</td>\n",
              "      <td>0.0</td>\n",
              "      <td>0.956566</td>\n",
              "      <td>3</td>\n",
              "      <td>7</td>\n",
              "    </tr>\n",
              "    <tr>\n",
              "      <th>3</th>\n",
              "      <td>0.076923</td>\n",
              "      <td>0.402550</td>\n",
              "      <td>0.339247</td>\n",
              "      <td>0.452173</td>\n",
              "      <td>0.880208</td>\n",
              "      <td>0.242479</td>\n",
              "      <td>0.418039</td>\n",
              "      <td>0.0</td>\n",
              "      <td>0.935354</td>\n",
              "      <td>3</td>\n",
              "      <td>7</td>\n",
              "    </tr>\n",
              "    <tr>\n",
              "      <th>4</th>\n",
              "      <td>0.076923</td>\n",
              "      <td>0.403461</td>\n",
              "      <td>0.285601</td>\n",
              "      <td>0.446860</td>\n",
              "      <td>0.869792</td>\n",
              "      <td>0.246049</td>\n",
              "      <td>0.405371</td>\n",
              "      <td>0.0</td>\n",
              "      <td>0.914141</td>\n",
              "      <td>3</td>\n",
              "      <td>7</td>\n",
              "    </tr>\n",
              "    <tr>\n",
              "      <th>...</th>\n",
              "      <td>...</td>\n",
              "      <td>...</td>\n",
              "      <td>...</td>\n",
              "      <td>...</td>\n",
              "      <td>...</td>\n",
              "      <td>...</td>\n",
              "      <td>...</td>\n",
              "      <td>...</td>\n",
              "      <td>...</td>\n",
              "      <td>...</td>\n",
              "      <td>...</td>\n",
              "    </tr>\n",
              "    <tr>\n",
              "      <th>900</th>\n",
              "      <td>0.923077</td>\n",
              "      <td>0.992016</td>\n",
              "      <td>0.555516</td>\n",
              "      <td>0.335326</td>\n",
              "      <td>0.645820</td>\n",
              "      <td>0.398800</td>\n",
              "      <td>0.380910</td>\n",
              "      <td>1.0</td>\n",
              "      <td>0.399596</td>\n",
              "      <td>4</td>\n",
              "      <td>9</td>\n",
              "    </tr>\n",
              "    <tr>\n",
              "      <th>901</th>\n",
              "      <td>0.923077</td>\n",
              "      <td>0.994012</td>\n",
              "      <td>0.665442</td>\n",
              "      <td>0.361626</td>\n",
              "      <td>0.612994</td>\n",
              "      <td>0.411066</td>\n",
              "      <td>0.395389</td>\n",
              "      <td>1.0</td>\n",
              "      <td>0.387487</td>\n",
              "      <td>6</td>\n",
              "      <td>9</td>\n",
              "    </tr>\n",
              "    <tr>\n",
              "      <th>902</th>\n",
              "      <td>0.923077</td>\n",
              "      <td>0.996008</td>\n",
              "      <td>0.343731</td>\n",
              "      <td>0.371189</td>\n",
              "      <td>0.528542</td>\n",
              "      <td>0.474867</td>\n",
              "      <td>0.408255</td>\n",
              "      <td>1.0</td>\n",
              "      <td>0.375378</td>\n",
              "      <td>6</td>\n",
              "      <td>9</td>\n",
              "    </tr>\n",
              "    <tr>\n",
              "      <th>903</th>\n",
              "      <td>0.923077</td>\n",
              "      <td>0.998004</td>\n",
              "      <td>0.980854</td>\n",
              "      <td>0.325762</td>\n",
              "      <td>0.570746</td>\n",
              "      <td>0.474867</td>\n",
              "      <td>0.402142</td>\n",
              "      <td>1.0</td>\n",
              "      <td>0.363269</td>\n",
              "      <td>6</td>\n",
              "      <td>9</td>\n",
              "    </tr>\n",
              "    <tr>\n",
              "      <th>904</th>\n",
              "      <td>0.923077</td>\n",
              "      <td>1.000000</td>\n",
              "      <td>0.536747</td>\n",
              "      <td>0.355051</td>\n",
              "      <td>0.590101</td>\n",
              "      <td>0.496633</td>\n",
              "      <td>0.401388</td>\n",
              "      <td>1.0</td>\n",
              "      <td>0.351160</td>\n",
              "      <td>4</td>\n",
              "      <td>9</td>\n",
              "    </tr>\n",
              "  </tbody>\n",
              "</table>\n",
              "<p>4137 rows × 11 columns</p>\n",
              "</div>"
            ],
            "text/plain": [
              "     Formation     Depth        GR  ...    RELPOS  Facies  Well Name\n",
              "0     0.076923  0.399818  0.298966  ...  1.000000       3          7\n",
              "1     0.076923  0.400729  0.302738  ...  0.978788       3          7\n",
              "2     0.076923  0.401639  0.306417  ...  0.956566       3          7\n",
              "3     0.076923  0.402550  0.339247  ...  0.935354       3          7\n",
              "4     0.076923  0.403461  0.285601  ...  0.914141       3          7\n",
              "..         ...       ...       ...  ...       ...     ...        ...\n",
              "900   0.923077  0.992016  0.555516  ...  0.399596       4          9\n",
              "901   0.923077  0.994012  0.665442  ...  0.387487       6          9\n",
              "902   0.923077  0.996008  0.343731  ...  0.375378       6          9\n",
              "903   0.923077  0.998004  0.980854  ...  0.363269       6          9\n",
              "904   0.923077  1.000000  0.536747  ...  0.351160       4          9\n",
              "\n",
              "[4137 rows x 11 columns]"
            ]
          },
          "metadata": {
            "tags": []
          },
          "execution_count": 16
        }
      ]
    },
    {
      "cell_type": "code",
      "metadata": {
        "id": "WQsub4cqORYf"
      },
      "source": [
        "training_data = training_data.reset_index()"
      ],
      "execution_count": 17,
      "outputs": []
    },
    {
      "cell_type": "code",
      "metadata": {
        "colab": {
          "base_uri": "https://localhost:8080/",
          "height": 406
        },
        "id": "-IljSAC0OdkA",
        "outputId": "23a59895-83ba-487c-e025-a1edfc9e0b65"
      },
      "source": [
        "training_data"
      ],
      "execution_count": 18,
      "outputs": [
        {
          "output_type": "execute_result",
          "data": {
            "text/html": [
              "<div>\n",
              "<style scoped>\n",
              "    .dataframe tbody tr th:only-of-type {\n",
              "        vertical-align: middle;\n",
              "    }\n",
              "\n",
              "    .dataframe tbody tr th {\n",
              "        vertical-align: top;\n",
              "    }\n",
              "\n",
              "    .dataframe thead th {\n",
              "        text-align: right;\n",
              "    }\n",
              "</style>\n",
              "<table border=\"1\" class=\"dataframe\">\n",
              "  <thead>\n",
              "    <tr style=\"text-align: right;\">\n",
              "      <th></th>\n",
              "      <th>index</th>\n",
              "      <th>Formation</th>\n",
              "      <th>Depth</th>\n",
              "      <th>GR</th>\n",
              "      <th>ILD_log10</th>\n",
              "      <th>DeltaPHI</th>\n",
              "      <th>PHIND</th>\n",
              "      <th>PE</th>\n",
              "      <th>NM_M</th>\n",
              "      <th>RELPOS</th>\n",
              "      <th>Facies</th>\n",
              "      <th>Well Name</th>\n",
              "    </tr>\n",
              "  </thead>\n",
              "  <tbody>\n",
              "    <tr>\n",
              "      <th>0</th>\n",
              "      <td>0</td>\n",
              "      <td>0.076923</td>\n",
              "      <td>0.399818</td>\n",
              "      <td>0.298966</td>\n",
              "      <td>0.458149</td>\n",
              "      <td>0.776042</td>\n",
              "      <td>0.219321</td>\n",
              "      <td>0.557385</td>\n",
              "      <td>0.0</td>\n",
              "      <td>1.000000</td>\n",
              "      <td>3</td>\n",
              "      <td>7</td>\n",
              "    </tr>\n",
              "    <tr>\n",
              "      <th>1</th>\n",
              "      <td>1</td>\n",
              "      <td>0.076923</td>\n",
              "      <td>0.400729</td>\n",
              "      <td>0.302738</td>\n",
              "      <td>0.456157</td>\n",
              "      <td>0.888021</td>\n",
              "      <td>0.231865</td>\n",
              "      <td>0.494046</td>\n",
              "      <td>0.0</td>\n",
              "      <td>0.978788</td>\n",
              "      <td>3</td>\n",
              "      <td>7</td>\n",
              "    </tr>\n",
              "    <tr>\n",
              "      <th>2</th>\n",
              "      <td>2</td>\n",
              "      <td>0.076923</td>\n",
              "      <td>0.401639</td>\n",
              "      <td>0.306417</td>\n",
              "      <td>0.454165</td>\n",
              "      <td>0.903646</td>\n",
              "      <td>0.241224</td>\n",
              "      <td>0.430707</td>\n",
              "      <td>0.0</td>\n",
              "      <td>0.956566</td>\n",
              "      <td>3</td>\n",
              "      <td>7</td>\n",
              "    </tr>\n",
              "    <tr>\n",
              "      <th>3</th>\n",
              "      <td>3</td>\n",
              "      <td>0.076923</td>\n",
              "      <td>0.402550</td>\n",
              "      <td>0.339247</td>\n",
              "      <td>0.452173</td>\n",
              "      <td>0.880208</td>\n",
              "      <td>0.242479</td>\n",
              "      <td>0.418039</td>\n",
              "      <td>0.0</td>\n",
              "      <td>0.935354</td>\n",
              "      <td>3</td>\n",
              "      <td>7</td>\n",
              "    </tr>\n",
              "    <tr>\n",
              "      <th>4</th>\n",
              "      <td>4</td>\n",
              "      <td>0.076923</td>\n",
              "      <td>0.403461</td>\n",
              "      <td>0.285601</td>\n",
              "      <td>0.446860</td>\n",
              "      <td>0.869792</td>\n",
              "      <td>0.246049</td>\n",
              "      <td>0.405371</td>\n",
              "      <td>0.0</td>\n",
              "      <td>0.914141</td>\n",
              "      <td>3</td>\n",
              "      <td>7</td>\n",
              "    </tr>\n",
              "    <tr>\n",
              "      <th>...</th>\n",
              "      <td>...</td>\n",
              "      <td>...</td>\n",
              "      <td>...</td>\n",
              "      <td>...</td>\n",
              "      <td>...</td>\n",
              "      <td>...</td>\n",
              "      <td>...</td>\n",
              "      <td>...</td>\n",
              "      <td>...</td>\n",
              "      <td>...</td>\n",
              "      <td>...</td>\n",
              "      <td>...</td>\n",
              "    </tr>\n",
              "    <tr>\n",
              "      <th>4132</th>\n",
              "      <td>900</td>\n",
              "      <td>0.923077</td>\n",
              "      <td>0.992016</td>\n",
              "      <td>0.555516</td>\n",
              "      <td>0.335326</td>\n",
              "      <td>0.645820</td>\n",
              "      <td>0.398800</td>\n",
              "      <td>0.380910</td>\n",
              "      <td>1.0</td>\n",
              "      <td>0.399596</td>\n",
              "      <td>4</td>\n",
              "      <td>9</td>\n",
              "    </tr>\n",
              "    <tr>\n",
              "      <th>4133</th>\n",
              "      <td>901</td>\n",
              "      <td>0.923077</td>\n",
              "      <td>0.994012</td>\n",
              "      <td>0.665442</td>\n",
              "      <td>0.361626</td>\n",
              "      <td>0.612994</td>\n",
              "      <td>0.411066</td>\n",
              "      <td>0.395389</td>\n",
              "      <td>1.0</td>\n",
              "      <td>0.387487</td>\n",
              "      <td>6</td>\n",
              "      <td>9</td>\n",
              "    </tr>\n",
              "    <tr>\n",
              "      <th>4134</th>\n",
              "      <td>902</td>\n",
              "      <td>0.923077</td>\n",
              "      <td>0.996008</td>\n",
              "      <td>0.343731</td>\n",
              "      <td>0.371189</td>\n",
              "      <td>0.528542</td>\n",
              "      <td>0.474867</td>\n",
              "      <td>0.408255</td>\n",
              "      <td>1.0</td>\n",
              "      <td>0.375378</td>\n",
              "      <td>6</td>\n",
              "      <td>9</td>\n",
              "    </tr>\n",
              "    <tr>\n",
              "      <th>4135</th>\n",
              "      <td>903</td>\n",
              "      <td>0.923077</td>\n",
              "      <td>0.998004</td>\n",
              "      <td>0.980854</td>\n",
              "      <td>0.325762</td>\n",
              "      <td>0.570746</td>\n",
              "      <td>0.474867</td>\n",
              "      <td>0.402142</td>\n",
              "      <td>1.0</td>\n",
              "      <td>0.363269</td>\n",
              "      <td>6</td>\n",
              "      <td>9</td>\n",
              "    </tr>\n",
              "    <tr>\n",
              "      <th>4136</th>\n",
              "      <td>904</td>\n",
              "      <td>0.923077</td>\n",
              "      <td>1.000000</td>\n",
              "      <td>0.536747</td>\n",
              "      <td>0.355051</td>\n",
              "      <td>0.590101</td>\n",
              "      <td>0.496633</td>\n",
              "      <td>0.401388</td>\n",
              "      <td>1.0</td>\n",
              "      <td>0.351160</td>\n",
              "      <td>4</td>\n",
              "      <td>9</td>\n",
              "    </tr>\n",
              "  </tbody>\n",
              "</table>\n",
              "<p>4137 rows × 12 columns</p>\n",
              "</div>"
            ],
            "text/plain": [
              "      index  Formation     Depth        GR  ...  NM_M    RELPOS  Facies  Well Name\n",
              "0         0   0.076923  0.399818  0.298966  ...   0.0  1.000000       3          7\n",
              "1         1   0.076923  0.400729  0.302738  ...   0.0  0.978788       3          7\n",
              "2         2   0.076923  0.401639  0.306417  ...   0.0  0.956566       3          7\n",
              "3         3   0.076923  0.402550  0.339247  ...   0.0  0.935354       3          7\n",
              "4         4   0.076923  0.403461  0.285601  ...   0.0  0.914141       3          7\n",
              "...     ...        ...       ...       ...  ...   ...       ...     ...        ...\n",
              "4132    900   0.923077  0.992016  0.555516  ...   1.0  0.399596       4          9\n",
              "4133    901   0.923077  0.994012  0.665442  ...   1.0  0.387487       6          9\n",
              "4134    902   0.923077  0.996008  0.343731  ...   1.0  0.375378       6          9\n",
              "4135    903   0.923077  0.998004  0.980854  ...   1.0  0.363269       6          9\n",
              "4136    904   0.923077  1.000000  0.536747  ...   1.0  0.351160       4          9\n",
              "\n",
              "[4137 rows x 12 columns]"
            ]
          },
          "metadata": {
            "tags": []
          },
          "execution_count": 18
        }
      ]
    },
    {
      "cell_type": "code",
      "metadata": {
        "id": "VDSLyRg0Ofbq"
      },
      "source": [
        "training_data = training_data.drop(columns='index')"
      ],
      "execution_count": 20,
      "outputs": []
    },
    {
      "cell_type": "code",
      "metadata": {
        "id": "aSJIiIjelIF8"
      },
      "source": [
        "train_data = training_data"
      ],
      "execution_count": 21,
      "outputs": []
    },
    {
      "cell_type": "code",
      "metadata": {
        "colab": {
          "base_uri": "https://localhost:8080/",
          "height": 406
        },
        "id": "JHUxUm48mxpN",
        "outputId": "3006448e-2605-48a7-ad6e-434929672416"
      },
      "source": [
        "training_data"
      ],
      "execution_count": 22,
      "outputs": [
        {
          "output_type": "execute_result",
          "data": {
            "text/html": [
              "<div>\n",
              "<style scoped>\n",
              "    .dataframe tbody tr th:only-of-type {\n",
              "        vertical-align: middle;\n",
              "    }\n",
              "\n",
              "    .dataframe tbody tr th {\n",
              "        vertical-align: top;\n",
              "    }\n",
              "\n",
              "    .dataframe thead th {\n",
              "        text-align: right;\n",
              "    }\n",
              "</style>\n",
              "<table border=\"1\" class=\"dataframe\">\n",
              "  <thead>\n",
              "    <tr style=\"text-align: right;\">\n",
              "      <th></th>\n",
              "      <th>Formation</th>\n",
              "      <th>Depth</th>\n",
              "      <th>GR</th>\n",
              "      <th>ILD_log10</th>\n",
              "      <th>DeltaPHI</th>\n",
              "      <th>PHIND</th>\n",
              "      <th>PE</th>\n",
              "      <th>NM_M</th>\n",
              "      <th>RELPOS</th>\n",
              "      <th>Facies</th>\n",
              "      <th>Well Name</th>\n",
              "    </tr>\n",
              "  </thead>\n",
              "  <tbody>\n",
              "    <tr>\n",
              "      <th>0</th>\n",
              "      <td>0.076923</td>\n",
              "      <td>0.399818</td>\n",
              "      <td>0.298966</td>\n",
              "      <td>0.458149</td>\n",
              "      <td>0.776042</td>\n",
              "      <td>0.219321</td>\n",
              "      <td>0.557385</td>\n",
              "      <td>0.0</td>\n",
              "      <td>1.000000</td>\n",
              "      <td>3</td>\n",
              "      <td>7</td>\n",
              "    </tr>\n",
              "    <tr>\n",
              "      <th>1</th>\n",
              "      <td>0.076923</td>\n",
              "      <td>0.400729</td>\n",
              "      <td>0.302738</td>\n",
              "      <td>0.456157</td>\n",
              "      <td>0.888021</td>\n",
              "      <td>0.231865</td>\n",
              "      <td>0.494046</td>\n",
              "      <td>0.0</td>\n",
              "      <td>0.978788</td>\n",
              "      <td>3</td>\n",
              "      <td>7</td>\n",
              "    </tr>\n",
              "    <tr>\n",
              "      <th>2</th>\n",
              "      <td>0.076923</td>\n",
              "      <td>0.401639</td>\n",
              "      <td>0.306417</td>\n",
              "      <td>0.454165</td>\n",
              "      <td>0.903646</td>\n",
              "      <td>0.241224</td>\n",
              "      <td>0.430707</td>\n",
              "      <td>0.0</td>\n",
              "      <td>0.956566</td>\n",
              "      <td>3</td>\n",
              "      <td>7</td>\n",
              "    </tr>\n",
              "    <tr>\n",
              "      <th>3</th>\n",
              "      <td>0.076923</td>\n",
              "      <td>0.402550</td>\n",
              "      <td>0.339247</td>\n",
              "      <td>0.452173</td>\n",
              "      <td>0.880208</td>\n",
              "      <td>0.242479</td>\n",
              "      <td>0.418039</td>\n",
              "      <td>0.0</td>\n",
              "      <td>0.935354</td>\n",
              "      <td>3</td>\n",
              "      <td>7</td>\n",
              "    </tr>\n",
              "    <tr>\n",
              "      <th>4</th>\n",
              "      <td>0.076923</td>\n",
              "      <td>0.403461</td>\n",
              "      <td>0.285601</td>\n",
              "      <td>0.446860</td>\n",
              "      <td>0.869792</td>\n",
              "      <td>0.246049</td>\n",
              "      <td>0.405371</td>\n",
              "      <td>0.0</td>\n",
              "      <td>0.914141</td>\n",
              "      <td>3</td>\n",
              "      <td>7</td>\n",
              "    </tr>\n",
              "    <tr>\n",
              "      <th>...</th>\n",
              "      <td>...</td>\n",
              "      <td>...</td>\n",
              "      <td>...</td>\n",
              "      <td>...</td>\n",
              "      <td>...</td>\n",
              "      <td>...</td>\n",
              "      <td>...</td>\n",
              "      <td>...</td>\n",
              "      <td>...</td>\n",
              "      <td>...</td>\n",
              "      <td>...</td>\n",
              "    </tr>\n",
              "    <tr>\n",
              "      <th>4132</th>\n",
              "      <td>0.923077</td>\n",
              "      <td>0.992016</td>\n",
              "      <td>0.555516</td>\n",
              "      <td>0.335326</td>\n",
              "      <td>0.645820</td>\n",
              "      <td>0.398800</td>\n",
              "      <td>0.380910</td>\n",
              "      <td>1.0</td>\n",
              "      <td>0.399596</td>\n",
              "      <td>4</td>\n",
              "      <td>9</td>\n",
              "    </tr>\n",
              "    <tr>\n",
              "      <th>4133</th>\n",
              "      <td>0.923077</td>\n",
              "      <td>0.994012</td>\n",
              "      <td>0.665442</td>\n",
              "      <td>0.361626</td>\n",
              "      <td>0.612994</td>\n",
              "      <td>0.411066</td>\n",
              "      <td>0.395389</td>\n",
              "      <td>1.0</td>\n",
              "      <td>0.387487</td>\n",
              "      <td>6</td>\n",
              "      <td>9</td>\n",
              "    </tr>\n",
              "    <tr>\n",
              "      <th>4134</th>\n",
              "      <td>0.923077</td>\n",
              "      <td>0.996008</td>\n",
              "      <td>0.343731</td>\n",
              "      <td>0.371189</td>\n",
              "      <td>0.528542</td>\n",
              "      <td>0.474867</td>\n",
              "      <td>0.408255</td>\n",
              "      <td>1.0</td>\n",
              "      <td>0.375378</td>\n",
              "      <td>6</td>\n",
              "      <td>9</td>\n",
              "    </tr>\n",
              "    <tr>\n",
              "      <th>4135</th>\n",
              "      <td>0.923077</td>\n",
              "      <td>0.998004</td>\n",
              "      <td>0.980854</td>\n",
              "      <td>0.325762</td>\n",
              "      <td>0.570746</td>\n",
              "      <td>0.474867</td>\n",
              "      <td>0.402142</td>\n",
              "      <td>1.0</td>\n",
              "      <td>0.363269</td>\n",
              "      <td>6</td>\n",
              "      <td>9</td>\n",
              "    </tr>\n",
              "    <tr>\n",
              "      <th>4136</th>\n",
              "      <td>0.923077</td>\n",
              "      <td>1.000000</td>\n",
              "      <td>0.536747</td>\n",
              "      <td>0.355051</td>\n",
              "      <td>0.590101</td>\n",
              "      <td>0.496633</td>\n",
              "      <td>0.401388</td>\n",
              "      <td>1.0</td>\n",
              "      <td>0.351160</td>\n",
              "      <td>4</td>\n",
              "      <td>9</td>\n",
              "    </tr>\n",
              "  </tbody>\n",
              "</table>\n",
              "<p>4137 rows × 11 columns</p>\n",
              "</div>"
            ],
            "text/plain": [
              "      Formation     Depth        GR  ...    RELPOS  Facies  Well Name\n",
              "0      0.076923  0.399818  0.298966  ...  1.000000       3          7\n",
              "1      0.076923  0.400729  0.302738  ...  0.978788       3          7\n",
              "2      0.076923  0.401639  0.306417  ...  0.956566       3          7\n",
              "3      0.076923  0.402550  0.339247  ...  0.935354       3          7\n",
              "4      0.076923  0.403461  0.285601  ...  0.914141       3          7\n",
              "...         ...       ...       ...  ...       ...     ...        ...\n",
              "4132   0.923077  0.992016  0.555516  ...  0.399596       4          9\n",
              "4133   0.923077  0.994012  0.665442  ...  0.387487       6          9\n",
              "4134   0.923077  0.996008  0.343731  ...  0.375378       6          9\n",
              "4135   0.923077  0.998004  0.980854  ...  0.363269       6          9\n",
              "4136   0.923077  1.000000  0.536747  ...  0.351160       4          9\n",
              "\n",
              "[4137 rows x 11 columns]"
            ]
          },
          "metadata": {
            "tags": []
          },
          "execution_count": 22
        }
      ]
    },
    {
      "cell_type": "code",
      "metadata": {
        "id": "4KQnNwVYR6hw",
        "scrolled": true
      },
      "source": [
        "blind_data = blind_data.drop(columns=['Unnamed: 0','Well Name'])"
      ],
      "execution_count": 23,
      "outputs": []
    },
    {
      "cell_type": "code",
      "metadata": {
        "id": "sjN58QCagULR"
      },
      "source": [
        "train_data = train_data.drop(columns=['Well Name'])"
      ],
      "execution_count": 24,
      "outputs": []
    },
    {
      "cell_type": "markdown",
      "metadata": {
        "id": "tpEXhG9Yf0s1"
      },
      "source": [
        "## 对训练集进行处理"
      ]
    },
    {
      "cell_type": "code",
      "metadata": {
        "colab": {
          "base_uri": "https://localhost:8080/",
          "height": 406
        },
        "id": "tfYF378T3R4S",
        "outputId": "2868dca6-3235-4a73-8f6d-470fe1ad936e"
      },
      "source": [
        "train_data"
      ],
      "execution_count": 25,
      "outputs": [
        {
          "output_type": "execute_result",
          "data": {
            "text/html": [
              "<div>\n",
              "<style scoped>\n",
              "    .dataframe tbody tr th:only-of-type {\n",
              "        vertical-align: middle;\n",
              "    }\n",
              "\n",
              "    .dataframe tbody tr th {\n",
              "        vertical-align: top;\n",
              "    }\n",
              "\n",
              "    .dataframe thead th {\n",
              "        text-align: right;\n",
              "    }\n",
              "</style>\n",
              "<table border=\"1\" class=\"dataframe\">\n",
              "  <thead>\n",
              "    <tr style=\"text-align: right;\">\n",
              "      <th></th>\n",
              "      <th>Formation</th>\n",
              "      <th>Depth</th>\n",
              "      <th>GR</th>\n",
              "      <th>ILD_log10</th>\n",
              "      <th>DeltaPHI</th>\n",
              "      <th>PHIND</th>\n",
              "      <th>PE</th>\n",
              "      <th>NM_M</th>\n",
              "      <th>RELPOS</th>\n",
              "      <th>Facies</th>\n",
              "    </tr>\n",
              "  </thead>\n",
              "  <tbody>\n",
              "    <tr>\n",
              "      <th>0</th>\n",
              "      <td>0.076923</td>\n",
              "      <td>0.399818</td>\n",
              "      <td>0.298966</td>\n",
              "      <td>0.458149</td>\n",
              "      <td>0.776042</td>\n",
              "      <td>0.219321</td>\n",
              "      <td>0.557385</td>\n",
              "      <td>0.0</td>\n",
              "      <td>1.000000</td>\n",
              "      <td>3</td>\n",
              "    </tr>\n",
              "    <tr>\n",
              "      <th>1</th>\n",
              "      <td>0.076923</td>\n",
              "      <td>0.400729</td>\n",
              "      <td>0.302738</td>\n",
              "      <td>0.456157</td>\n",
              "      <td>0.888021</td>\n",
              "      <td>0.231865</td>\n",
              "      <td>0.494046</td>\n",
              "      <td>0.0</td>\n",
              "      <td>0.978788</td>\n",
              "      <td>3</td>\n",
              "    </tr>\n",
              "    <tr>\n",
              "      <th>2</th>\n",
              "      <td>0.076923</td>\n",
              "      <td>0.401639</td>\n",
              "      <td>0.306417</td>\n",
              "      <td>0.454165</td>\n",
              "      <td>0.903646</td>\n",
              "      <td>0.241224</td>\n",
              "      <td>0.430707</td>\n",
              "      <td>0.0</td>\n",
              "      <td>0.956566</td>\n",
              "      <td>3</td>\n",
              "    </tr>\n",
              "    <tr>\n",
              "      <th>3</th>\n",
              "      <td>0.076923</td>\n",
              "      <td>0.402550</td>\n",
              "      <td>0.339247</td>\n",
              "      <td>0.452173</td>\n",
              "      <td>0.880208</td>\n",
              "      <td>0.242479</td>\n",
              "      <td>0.418039</td>\n",
              "      <td>0.0</td>\n",
              "      <td>0.935354</td>\n",
              "      <td>3</td>\n",
              "    </tr>\n",
              "    <tr>\n",
              "      <th>4</th>\n",
              "      <td>0.076923</td>\n",
              "      <td>0.403461</td>\n",
              "      <td>0.285601</td>\n",
              "      <td>0.446860</td>\n",
              "      <td>0.869792</td>\n",
              "      <td>0.246049</td>\n",
              "      <td>0.405371</td>\n",
              "      <td>0.0</td>\n",
              "      <td>0.914141</td>\n",
              "      <td>3</td>\n",
              "    </tr>\n",
              "    <tr>\n",
              "      <th>...</th>\n",
              "      <td>...</td>\n",
              "      <td>...</td>\n",
              "      <td>...</td>\n",
              "      <td>...</td>\n",
              "      <td>...</td>\n",
              "      <td>...</td>\n",
              "      <td>...</td>\n",
              "      <td>...</td>\n",
              "      <td>...</td>\n",
              "      <td>...</td>\n",
              "    </tr>\n",
              "    <tr>\n",
              "      <th>4132</th>\n",
              "      <td>0.923077</td>\n",
              "      <td>0.992016</td>\n",
              "      <td>0.555516</td>\n",
              "      <td>0.335326</td>\n",
              "      <td>0.645820</td>\n",
              "      <td>0.398800</td>\n",
              "      <td>0.380910</td>\n",
              "      <td>1.0</td>\n",
              "      <td>0.399596</td>\n",
              "      <td>4</td>\n",
              "    </tr>\n",
              "    <tr>\n",
              "      <th>4133</th>\n",
              "      <td>0.923077</td>\n",
              "      <td>0.994012</td>\n",
              "      <td>0.665442</td>\n",
              "      <td>0.361626</td>\n",
              "      <td>0.612994</td>\n",
              "      <td>0.411066</td>\n",
              "      <td>0.395389</td>\n",
              "      <td>1.0</td>\n",
              "      <td>0.387487</td>\n",
              "      <td>6</td>\n",
              "    </tr>\n",
              "    <tr>\n",
              "      <th>4134</th>\n",
              "      <td>0.923077</td>\n",
              "      <td>0.996008</td>\n",
              "      <td>0.343731</td>\n",
              "      <td>0.371189</td>\n",
              "      <td>0.528542</td>\n",
              "      <td>0.474867</td>\n",
              "      <td>0.408255</td>\n",
              "      <td>1.0</td>\n",
              "      <td>0.375378</td>\n",
              "      <td>6</td>\n",
              "    </tr>\n",
              "    <tr>\n",
              "      <th>4135</th>\n",
              "      <td>0.923077</td>\n",
              "      <td>0.998004</td>\n",
              "      <td>0.980854</td>\n",
              "      <td>0.325762</td>\n",
              "      <td>0.570746</td>\n",
              "      <td>0.474867</td>\n",
              "      <td>0.402142</td>\n",
              "      <td>1.0</td>\n",
              "      <td>0.363269</td>\n",
              "      <td>6</td>\n",
              "    </tr>\n",
              "    <tr>\n",
              "      <th>4136</th>\n",
              "      <td>0.923077</td>\n",
              "      <td>1.000000</td>\n",
              "      <td>0.536747</td>\n",
              "      <td>0.355051</td>\n",
              "      <td>0.590101</td>\n",
              "      <td>0.496633</td>\n",
              "      <td>0.401388</td>\n",
              "      <td>1.0</td>\n",
              "      <td>0.351160</td>\n",
              "      <td>4</td>\n",
              "    </tr>\n",
              "  </tbody>\n",
              "</table>\n",
              "<p>4137 rows × 10 columns</p>\n",
              "</div>"
            ],
            "text/plain": [
              "      Formation     Depth        GR  ...  NM_M    RELPOS  Facies\n",
              "0      0.076923  0.399818  0.298966  ...   0.0  1.000000       3\n",
              "1      0.076923  0.400729  0.302738  ...   0.0  0.978788       3\n",
              "2      0.076923  0.401639  0.306417  ...   0.0  0.956566       3\n",
              "3      0.076923  0.402550  0.339247  ...   0.0  0.935354       3\n",
              "4      0.076923  0.403461  0.285601  ...   0.0  0.914141       3\n",
              "...         ...       ...       ...  ...   ...       ...     ...\n",
              "4132   0.923077  0.992016  0.555516  ...   1.0  0.399596       4\n",
              "4133   0.923077  0.994012  0.665442  ...   1.0  0.387487       6\n",
              "4134   0.923077  0.996008  0.343731  ...   1.0  0.375378       6\n",
              "4135   0.923077  0.998004  0.980854  ...   1.0  0.363269       6\n",
              "4136   0.923077  1.000000  0.536747  ...   1.0  0.351160       4\n",
              "\n",
              "[4137 rows x 10 columns]"
            ]
          },
          "metadata": {
            "tags": []
          },
          "execution_count": 25
        }
      ]
    },
    {
      "cell_type": "code",
      "metadata": {
        "colab": {
          "base_uri": "https://localhost:8080/",
          "height": 406
        },
        "id": "8rIpEQdDmVb4",
        "outputId": "f2ba9ddd-4a58-4049-f192-60e998e16832"
      },
      "source": [
        "training_data"
      ],
      "execution_count": 26,
      "outputs": [
        {
          "output_type": "execute_result",
          "data": {
            "text/html": [
              "<div>\n",
              "<style scoped>\n",
              "    .dataframe tbody tr th:only-of-type {\n",
              "        vertical-align: middle;\n",
              "    }\n",
              "\n",
              "    .dataframe tbody tr th {\n",
              "        vertical-align: top;\n",
              "    }\n",
              "\n",
              "    .dataframe thead th {\n",
              "        text-align: right;\n",
              "    }\n",
              "</style>\n",
              "<table border=\"1\" class=\"dataframe\">\n",
              "  <thead>\n",
              "    <tr style=\"text-align: right;\">\n",
              "      <th></th>\n",
              "      <th>Formation</th>\n",
              "      <th>Depth</th>\n",
              "      <th>GR</th>\n",
              "      <th>ILD_log10</th>\n",
              "      <th>DeltaPHI</th>\n",
              "      <th>PHIND</th>\n",
              "      <th>PE</th>\n",
              "      <th>NM_M</th>\n",
              "      <th>RELPOS</th>\n",
              "      <th>Facies</th>\n",
              "      <th>Well Name</th>\n",
              "    </tr>\n",
              "  </thead>\n",
              "  <tbody>\n",
              "    <tr>\n",
              "      <th>0</th>\n",
              "      <td>0.076923</td>\n",
              "      <td>0.399818</td>\n",
              "      <td>0.298966</td>\n",
              "      <td>0.458149</td>\n",
              "      <td>0.776042</td>\n",
              "      <td>0.219321</td>\n",
              "      <td>0.557385</td>\n",
              "      <td>0.0</td>\n",
              "      <td>1.000000</td>\n",
              "      <td>3</td>\n",
              "      <td>7</td>\n",
              "    </tr>\n",
              "    <tr>\n",
              "      <th>1</th>\n",
              "      <td>0.076923</td>\n",
              "      <td>0.400729</td>\n",
              "      <td>0.302738</td>\n",
              "      <td>0.456157</td>\n",
              "      <td>0.888021</td>\n",
              "      <td>0.231865</td>\n",
              "      <td>0.494046</td>\n",
              "      <td>0.0</td>\n",
              "      <td>0.978788</td>\n",
              "      <td>3</td>\n",
              "      <td>7</td>\n",
              "    </tr>\n",
              "    <tr>\n",
              "      <th>2</th>\n",
              "      <td>0.076923</td>\n",
              "      <td>0.401639</td>\n",
              "      <td>0.306417</td>\n",
              "      <td>0.454165</td>\n",
              "      <td>0.903646</td>\n",
              "      <td>0.241224</td>\n",
              "      <td>0.430707</td>\n",
              "      <td>0.0</td>\n",
              "      <td>0.956566</td>\n",
              "      <td>3</td>\n",
              "      <td>7</td>\n",
              "    </tr>\n",
              "    <tr>\n",
              "      <th>3</th>\n",
              "      <td>0.076923</td>\n",
              "      <td>0.402550</td>\n",
              "      <td>0.339247</td>\n",
              "      <td>0.452173</td>\n",
              "      <td>0.880208</td>\n",
              "      <td>0.242479</td>\n",
              "      <td>0.418039</td>\n",
              "      <td>0.0</td>\n",
              "      <td>0.935354</td>\n",
              "      <td>3</td>\n",
              "      <td>7</td>\n",
              "    </tr>\n",
              "    <tr>\n",
              "      <th>4</th>\n",
              "      <td>0.076923</td>\n",
              "      <td>0.403461</td>\n",
              "      <td>0.285601</td>\n",
              "      <td>0.446860</td>\n",
              "      <td>0.869792</td>\n",
              "      <td>0.246049</td>\n",
              "      <td>0.405371</td>\n",
              "      <td>0.0</td>\n",
              "      <td>0.914141</td>\n",
              "      <td>3</td>\n",
              "      <td>7</td>\n",
              "    </tr>\n",
              "    <tr>\n",
              "      <th>...</th>\n",
              "      <td>...</td>\n",
              "      <td>...</td>\n",
              "      <td>...</td>\n",
              "      <td>...</td>\n",
              "      <td>...</td>\n",
              "      <td>...</td>\n",
              "      <td>...</td>\n",
              "      <td>...</td>\n",
              "      <td>...</td>\n",
              "      <td>...</td>\n",
              "      <td>...</td>\n",
              "    </tr>\n",
              "    <tr>\n",
              "      <th>4132</th>\n",
              "      <td>0.923077</td>\n",
              "      <td>0.992016</td>\n",
              "      <td>0.555516</td>\n",
              "      <td>0.335326</td>\n",
              "      <td>0.645820</td>\n",
              "      <td>0.398800</td>\n",
              "      <td>0.380910</td>\n",
              "      <td>1.0</td>\n",
              "      <td>0.399596</td>\n",
              "      <td>4</td>\n",
              "      <td>9</td>\n",
              "    </tr>\n",
              "    <tr>\n",
              "      <th>4133</th>\n",
              "      <td>0.923077</td>\n",
              "      <td>0.994012</td>\n",
              "      <td>0.665442</td>\n",
              "      <td>0.361626</td>\n",
              "      <td>0.612994</td>\n",
              "      <td>0.411066</td>\n",
              "      <td>0.395389</td>\n",
              "      <td>1.0</td>\n",
              "      <td>0.387487</td>\n",
              "      <td>6</td>\n",
              "      <td>9</td>\n",
              "    </tr>\n",
              "    <tr>\n",
              "      <th>4134</th>\n",
              "      <td>0.923077</td>\n",
              "      <td>0.996008</td>\n",
              "      <td>0.343731</td>\n",
              "      <td>0.371189</td>\n",
              "      <td>0.528542</td>\n",
              "      <td>0.474867</td>\n",
              "      <td>0.408255</td>\n",
              "      <td>1.0</td>\n",
              "      <td>0.375378</td>\n",
              "      <td>6</td>\n",
              "      <td>9</td>\n",
              "    </tr>\n",
              "    <tr>\n",
              "      <th>4135</th>\n",
              "      <td>0.923077</td>\n",
              "      <td>0.998004</td>\n",
              "      <td>0.980854</td>\n",
              "      <td>0.325762</td>\n",
              "      <td>0.570746</td>\n",
              "      <td>0.474867</td>\n",
              "      <td>0.402142</td>\n",
              "      <td>1.0</td>\n",
              "      <td>0.363269</td>\n",
              "      <td>6</td>\n",
              "      <td>9</td>\n",
              "    </tr>\n",
              "    <tr>\n",
              "      <th>4136</th>\n",
              "      <td>0.923077</td>\n",
              "      <td>1.000000</td>\n",
              "      <td>0.536747</td>\n",
              "      <td>0.355051</td>\n",
              "      <td>0.590101</td>\n",
              "      <td>0.496633</td>\n",
              "      <td>0.401388</td>\n",
              "      <td>1.0</td>\n",
              "      <td>0.351160</td>\n",
              "      <td>4</td>\n",
              "      <td>9</td>\n",
              "    </tr>\n",
              "  </tbody>\n",
              "</table>\n",
              "<p>4137 rows × 11 columns</p>\n",
              "</div>"
            ],
            "text/plain": [
              "      Formation     Depth        GR  ...    RELPOS  Facies  Well Name\n",
              "0      0.076923  0.399818  0.298966  ...  1.000000       3          7\n",
              "1      0.076923  0.400729  0.302738  ...  0.978788       3          7\n",
              "2      0.076923  0.401639  0.306417  ...  0.956566       3          7\n",
              "3      0.076923  0.402550  0.339247  ...  0.935354       3          7\n",
              "4      0.076923  0.403461  0.285601  ...  0.914141       3          7\n",
              "...         ...       ...       ...  ...       ...     ...        ...\n",
              "4132   0.923077  0.992016  0.555516  ...  0.399596       4          9\n",
              "4133   0.923077  0.994012  0.665442  ...  0.387487       6          9\n",
              "4134   0.923077  0.996008  0.343731  ...  0.375378       6          9\n",
              "4135   0.923077  0.998004  0.980854  ...  0.363269       6          9\n",
              "4136   0.923077  1.000000  0.536747  ...  0.351160       4          9\n",
              "\n",
              "[4137 rows x 11 columns]"
            ]
          },
          "metadata": {
            "tags": []
          },
          "execution_count": 26
        }
      ]
    },
    {
      "cell_type": "code",
      "metadata": {
        "id": "6xE26sp_oXfR"
      },
      "source": [
        "training_data = training_data.values"
      ],
      "execution_count": 27,
      "outputs": []
    },
    {
      "cell_type": "code",
      "metadata": {
        "id": "uJjgaGJcR6hz"
      },
      "source": [
        "seq_length = 100\n",
        "data_ = []\n",
        "for i in range(len(train_data)-seq_length):\n",
        "  if training_data[i,-1]!=training_data[i+seq_length,-1]:\n",
        "    continue\n",
        "  data_.append(train_data.iloc[i:i+seq_length])"
      ],
      "execution_count": 28,
      "outputs": []
    },
    {
      "cell_type": "code",
      "metadata": {
        "id": "Ph7FHonPR6hz"
      },
      "source": [
        "data_ = np.array([df.values for df in data_])"
      ],
      "execution_count": 29,
      "outputs": []
    },
    {
      "cell_type": "code",
      "metadata": {
        "colab": {
          "base_uri": "https://localhost:8080/"
        },
        "id": "1frDUWV2R6hz",
        "outputId": "0a785b73-0f8f-4b51-ef58-45951ee993c0"
      },
      "source": [
        "data_.shape"
      ],
      "execution_count": 30,
      "outputs": [
        {
          "output_type": "execute_result",
          "data": {
            "text/plain": [
              "(3169, 100, 10)"
            ]
          },
          "metadata": {
            "tags": []
          },
          "execution_count": 30
        }
      ]
    },
    {
      "cell_type": "code",
      "metadata": {
        "id": "T85k6t9HR6hz"
      },
      "source": [
        "#np.random.shuffle(data_)"
      ],
      "execution_count": 31,
      "outputs": []
    },
    {
      "cell_type": "code",
      "metadata": {
        "colab": {
          "base_uri": "https://localhost:8080/"
        },
        "id": "x7YoxtuqR6hz",
        "outputId": "1715cc3b-84d2-4e6c-ab19-7f9079d20f3e"
      },
      "source": [
        "data_.shape"
      ],
      "execution_count": 32,
      "outputs": [
        {
          "output_type": "execute_result",
          "data": {
            "text/plain": [
              "(3169, 100, 10)"
            ]
          },
          "metadata": {
            "tags": []
          },
          "execution_count": 32
        }
      ]
    },
    {
      "cell_type": "code",
      "metadata": {
        "id": "65pdiqhKR6hz"
      },
      "source": [
        "X = data_[:,:,:9]"
      ],
      "execution_count": 33,
      "outputs": []
    },
    {
      "cell_type": "code",
      "metadata": {
        "colab": {
          "base_uri": "https://localhost:8080/"
        },
        "id": "ul9HLdvdR6hz",
        "outputId": "e0fbf008-4918-421e-a6f3-2831e1fb1432"
      },
      "source": [
        "X.shape"
      ],
      "execution_count": 34,
      "outputs": [
        {
          "output_type": "execute_result",
          "data": {
            "text/plain": [
              "(3169, 100, 9)"
            ]
          },
          "metadata": {
            "tags": []
          },
          "execution_count": 34
        }
      ]
    },
    {
      "cell_type": "code",
      "metadata": {
        "id": "ogp9fZ-GR6h0"
      },
      "source": [
        "Y = data_[:,:,-1]-1"
      ],
      "execution_count": 35,
      "outputs": []
    },
    {
      "cell_type": "code",
      "metadata": {
        "id": "chjCU5DhR6h0"
      },
      "source": [
        "Y=np.array(Y)"
      ],
      "execution_count": 36,
      "outputs": []
    },
    {
      "cell_type": "code",
      "metadata": {
        "colab": {
          "base_uri": "https://localhost:8080/"
        },
        "id": "Q8qj0JXpR6h0",
        "outputId": "64c3d417-6c0d-49d5-d1a1-580fd0ed5531"
      },
      "source": [
        "Y.shape"
      ],
      "execution_count": 37,
      "outputs": [
        {
          "output_type": "execute_result",
          "data": {
            "text/plain": [
              "(3169, 100)"
            ]
          },
          "metadata": {
            "tags": []
          },
          "execution_count": 37
        }
      ]
    },
    {
      "cell_type": "code",
      "metadata": {
        "id": "qLjrtLn7R6h0"
      },
      "source": [
        "Y=tf.keras.utils.to_categorical(Y)"
      ],
      "execution_count": 38,
      "outputs": []
    },
    {
      "cell_type": "markdown",
      "metadata": {
        "id": "gOgKF9H5p-cf"
      },
      "source": [
        "## 测试集"
      ]
    },
    {
      "cell_type": "code",
      "metadata": {
        "id": "0_o07j5x_S3A"
      },
      "source": [
        "blind = blind.values"
      ],
      "execution_count": 39,
      "outputs": []
    },
    {
      "cell_type": "code",
      "metadata": {
        "id": "H1dBFFhMxbQU"
      },
      "source": [
        "data_test = []\n",
        "for i in range(len(blind_data)-seq_length):\n",
        "  if blind[i,-1]!=blind[i+seq_length,-1]:\n",
        "    continue\n",
        "  data_test.append(blind_data.iloc[i:i+seq_length])"
      ],
      "execution_count": 40,
      "outputs": []
    },
    {
      "cell_type": "code",
      "metadata": {
        "id": "bz1zcckNq9Wk"
      },
      "source": [
        "data_test = np.array([df.values for df in data_test])"
      ],
      "execution_count": 41,
      "outputs": []
    },
    {
      "cell_type": "code",
      "metadata": {
        "colab": {
          "base_uri": "https://localhost:8080/"
        },
        "id": "g9uoQP4u_iTw",
        "outputId": "4273660e-8c97-4798-b6f8-f878d4b3aa47"
      },
      "source": [
        "data_test.shape"
      ],
      "execution_count": 42,
      "outputs": [
        {
          "output_type": "execute_result",
          "data": {
            "text/plain": [
              "(630, 100, 10)"
            ]
          },
          "metadata": {
            "tags": []
          },
          "execution_count": 42
        }
      ]
    },
    {
      "cell_type": "code",
      "metadata": {
        "id": "mPM_kgQ5wKkI"
      },
      "source": [
        "data_test_1 = data_test[:,:,:9]"
      ],
      "execution_count": 43,
      "outputs": []
    },
    {
      "cell_type": "code",
      "metadata": {
        "id": "Cs_qFvaxvYPw"
      },
      "source": [
        "test_y_1 = data_test[:,:,-1]-1"
      ],
      "execution_count": 44,
      "outputs": []
    },
    {
      "cell_type": "code",
      "metadata": {
        "id": "xgE3Pm2rwBq4"
      },
      "source": [
        "test_y_1 =np.array(test_y_1)"
      ],
      "execution_count": 45,
      "outputs": []
    },
    {
      "cell_type": "code",
      "metadata": {
        "id": "MnC7A5mMwE2A"
      },
      "source": [
        "test_y_1=tf.keras.utils.to_categorical(test_y_1)"
      ],
      "execution_count": 46,
      "outputs": []
    },
    {
      "cell_type": "code",
      "metadata": {
        "id": "R2WQ5EK_q9RW"
      },
      "source": [
        "#np.random.shuffle(data_test)"
      ],
      "execution_count": 47,
      "outputs": []
    },
    {
      "cell_type": "code",
      "metadata": {
        "id": "jNmJmnXvq9Hq"
      },
      "source": [
        "test_x = data_test[:,:,:9]"
      ],
      "execution_count": 48,
      "outputs": []
    },
    {
      "cell_type": "code",
      "metadata": {
        "colab": {
          "base_uri": "https://localhost:8080/"
        },
        "id": "JqIfyGYMTOzc",
        "outputId": "0f930922-583c-4175-d1d1-a94b277b787c"
      },
      "source": [
        "test_x.shape"
      ],
      "execution_count": 49,
      "outputs": [
        {
          "output_type": "execute_result",
          "data": {
            "text/plain": [
              "(630, 100, 9)"
            ]
          },
          "metadata": {
            "tags": []
          },
          "execution_count": 49
        }
      ]
    },
    {
      "cell_type": "code",
      "metadata": {
        "id": "QucYKzCrrq_x"
      },
      "source": [
        "test_y = data_test[:,:,-1]-1"
      ],
      "execution_count": 50,
      "outputs": []
    },
    {
      "cell_type": "code",
      "metadata": {
        "id": "YNt3xMs0r8la"
      },
      "source": [
        "test_y =np.array(test_y)"
      ],
      "execution_count": 51,
      "outputs": []
    },
    {
      "cell_type": "code",
      "metadata": {
        "id": "HavOjuPnxJbo"
      },
      "source": [
        "test_y=tf.keras.utils.to_categorical(test_y)"
      ],
      "execution_count": 52,
      "outputs": []
    },
    {
      "cell_type": "markdown",
      "metadata": {
        "id": "ia7vcZJpR6h0"
      },
      "source": [
        "# 设计模型"
      ]
    },
    {
      "cell_type": "markdown",
      "metadata": {
        "id": "BSLZgvwnR6h0"
      },
      "source": [
        "## transform编码器"
      ]
    },
    {
      "cell_type": "code",
      "metadata": {
        "id": "xscgD8oMR6h0"
      },
      "source": [
        "input = tf.keras.Input(shape=(100,9))"
      ],
      "execution_count": 53,
      "outputs": []
    },
    {
      "cell_type": "code",
      "metadata": {
        "id": "NH_igaqpR6h0"
      },
      "source": [
        "ainput = tf.keras.layers.Bidirectional(tf.keras.layers.LSTM(32,return_sequences=True))(input)\n",
        "x = tf.keras.layers.MultiHeadAttention(num_heads=3, key_dim=16, value_dim=16,dropout=0.3)(ainput,ainput)\n",
        "x = tf.keras.layers.add([ainput,x])\n",
        "x1 = tf.keras.layers.LayerNormalization()(x)\n",
        "x = tf.keras.layers.Dense(128,activation='relu',kernel_initializer=\"he_uniform\",kernel_regularizer='l2')(x1)\n",
        "x = tf.keras.layers.Dense(64)(x)\n",
        "x = tf.keras.layers.add([x,x1])\n",
        "x1 = tf.keras.layers.LayerNormalization()(x)\n",
        "x1 = tf.keras.layers.Dropout(0.3)(x1)\n",
        "#x = tf.keras.layers.MultiHeadAttention(num_heads=8, key_dim=64, value_dim=64,dropout=0.5)(x1,x1)\n",
        "#x = tf.keras.layers.add([x1,x])\n",
        "#x1 = tf.keras.layers.LayerNormalization()(x)\n",
        "#x = tf.keras.layers.Dense(64,activation='relu',kernel_initializer=\"he_uniform\",kernel_regularizer='l2')(x1)\n",
        "#x = tf.keras.layers.Dense(64)(x)\n",
        "#x = tf.keras.layers.add([x,x1])\n",
        "#x = tf.keras.layers.LayerNormalization()(x)\n",
        "#x = tf.keras.layers.Dropout(0.5)(x)\n",
        "x = tf.keras.layers.Dense(128,activation='relu')(x1)\n",
        "x = tf.keras.layers.Dense(64,activation='relu')(x)\n",
        "x = tf.keras.layers.Dense(32,activation='linear')(x)\n",
        "x = tf.keras.layers.TimeDistributed(tf.keras.layers.Dense(9,activation='softmax'))(x)\n",
        "#x = tf.keras.layers.Dense(9,activation='softmax')(x)\n",
        "model = tf.keras.Model(inputs = input, outputs = x)"
      ],
      "execution_count": 180,
      "outputs": []
    },
    {
      "cell_type": "code",
      "metadata": {
        "colab": {
          "base_uri": "https://localhost:8080/"
        },
        "id": "RCOEO0ySR6h0",
        "outputId": "4db8c5e3-8880-4ee1-ce76-f5001d388cd8"
      },
      "source": [
        "model.summary()"
      ],
      "execution_count": 181,
      "outputs": [
        {
          "output_type": "stream",
          "text": [
            "Model: \"model_4\"\n",
            "__________________________________________________________________________________________________\n",
            "Layer (type)                    Output Shape         Param #     Connected to                     \n",
            "==================================================================================================\n",
            "input_1 (InputLayer)            [(None, 100, 9)]     0                                            \n",
            "__________________________________________________________________________________________________\n",
            "bidirectional_4 (Bidirectional) (None, 100, 64)      10752       input_1[0][0]                    \n",
            "__________________________________________________________________________________________________\n",
            "multi_head_attention_4 (MultiHe (None, 100, 64)      12496       bidirectional_4[0][0]            \n",
            "                                                                 bidirectional_4[0][0]            \n",
            "__________________________________________________________________________________________________\n",
            "add_8 (Add)                     (None, 100, 64)      0           bidirectional_4[0][0]            \n",
            "                                                                 multi_head_attention_4[0][0]     \n",
            "__________________________________________________________________________________________________\n",
            "layer_normalization_8 (LayerNor (None, 100, 64)      128         add_8[0][0]                      \n",
            "__________________________________________________________________________________________________\n",
            "dense_24 (Dense)                (None, 100, 128)     8320        layer_normalization_8[0][0]      \n",
            "__________________________________________________________________________________________________\n",
            "dense_25 (Dense)                (None, 100, 64)      8256        dense_24[0][0]                   \n",
            "__________________________________________________________________________________________________\n",
            "add_9 (Add)                     (None, 100, 64)      0           dense_25[0][0]                   \n",
            "                                                                 layer_normalization_8[0][0]      \n",
            "__________________________________________________________________________________________________\n",
            "layer_normalization_9 (LayerNor (None, 100, 64)      128         add_9[0][0]                      \n",
            "__________________________________________________________________________________________________\n",
            "dropout_8 (Dropout)             (None, 100, 64)      0           layer_normalization_9[0][0]      \n",
            "__________________________________________________________________________________________________\n",
            "dense_26 (Dense)                (None, 100, 128)     8320        dropout_8[0][0]                  \n",
            "__________________________________________________________________________________________________\n",
            "dense_27 (Dense)                (None, 100, 64)      8256        dense_26[0][0]                   \n",
            "__________________________________________________________________________________________________\n",
            "dense_28 (Dense)                (None, 100, 32)      2080        dense_27[0][0]                   \n",
            "__________________________________________________________________________________________________\n",
            "time_distributed_4 (TimeDistrib (None, 100, 9)       297         dense_28[0][0]                   \n",
            "==================================================================================================\n",
            "Total params: 59,033\n",
            "Trainable params: 59,033\n",
            "Non-trainable params: 0\n",
            "__________________________________________________________________________________________________\n"
          ],
          "name": "stdout"
        }
      ]
    },
    {
      "cell_type": "code",
      "metadata": {
        "id": "rJriq9ngR6h0",
        "scrolled": true
      },
      "source": [
        "#学习率衰减\n",
        "learning_rate=0.001\n",
        "def scheduler(epoch):\n",
        "  if epoch<=200:\n",
        "    learning_rate=0.001\n",
        "  elif epoch<=300:\n",
        "    learning_rate=0.0008\n",
        "  elif epoch<=400:\n",
        "    learning_rate=0.0006\n",
        "  else:\n",
        "    learning_rate=0.0005\n",
        "  return learning_rate\n",
        "\n",
        "Lr_change=tf.keras.callbacks.ReduceLROnPlateau('val_loss',patience = 10, factor = 0.5, min_lr=0.0001)\n",
        "#保存准确率最好的模型\n",
        "from keras.callbacks import ModelCheckpoint\n",
        "filepath=\"best_weight.h5\"\n",
        "checkpoint = ModelCheckpoint(filepath, monitor='val_acc', verbose=1, save_best_only=True,mode='max')\n",
        "#model.save_weights('a.h5',overwrite=True, save_format=None)\n",
        "#Adam优化器\n",
        "Adam=keras.optimizers.Adam(learning_rate=learning_rate)\n",
        "model.compile(optimizer=Adam,loss='categorical_crossentropy',\n",
        "              metrics=['acc',tf.keras.metrics.Precision(),tf.keras.metrics.Recall()])\n"
      ],
      "execution_count": 182,
      "outputs": []
    },
    {
      "cell_type": "code",
      "metadata": {
        "colab": {
          "base_uri": "https://localhost:8080/",
          "height": 1000
        },
        "id": "3-10XwzkR6h0",
        "scrolled": true,
        "outputId": "eb873401-82e3-435d-8c0a-96bc4ca0550b"
      },
      "source": [
        "history=model.fit( X,Y,batch_size=128,\n",
        "         epochs=50, \n",
        "         callbacks=[Lr_change,checkpoint],\n",
        "         validation_data=(test_x,test_y))"
      ],
      "execution_count": 183,
      "outputs": [
        {
          "output_type": "stream",
          "text": [
            "Epoch 1/50\n",
            "25/25 [==============================] - 13s 379ms/step - loss: 4.4017 - acc: 0.2755 - precision_4: 0.3861 - recall_4: 0.0448 - val_loss: 3.6208 - val_acc: 0.4537 - val_precision_4: 0.5547 - val_recall_4: 0.1593\n",
            "\n",
            "Epoch 00001: val_acc improved from -inf to 0.45368, saving model to best_weight.h5\n",
            "Epoch 2/50\n",
            "25/25 [==============================] - 8s 330ms/step - loss: 3.1866 - acc: 0.5004 - precision_4: 0.6236 - recall_4: 0.3138 - val_loss: 3.0846 - val_acc: 0.5357 - val_precision_4: 0.6689 - val_recall_4: 0.3339\n",
            "\n",
            "Epoch 00002: val_acc improved from 0.45368 to 0.53565, saving model to best_weight.h5\n",
            "Epoch 3/50\n",
            "25/25 [==============================] - 8s 334ms/step - loss: 2.5940 - acc: 0.5931 - precision_4: 0.6929 - recall_4: 0.4509 - val_loss: 2.6881 - val_acc: 0.5655 - val_precision_4: 0.6337 - val_recall_4: 0.4275\n",
            "\n",
            "Epoch 00003: val_acc improved from 0.53565 to 0.56546, saving model to best_weight.h5\n",
            "Epoch 4/50\n",
            "25/25 [==============================] - 9s 342ms/step - loss: 2.1456 - acc: 0.6429 - precision_4: 0.7198 - recall_4: 0.5301 - val_loss: 2.3851 - val_acc: 0.5864 - val_precision_4: 0.6214 - val_recall_4: 0.4570\n",
            "\n",
            "Epoch 00004: val_acc improved from 0.56546 to 0.58643, saving model to best_weight.h5\n",
            "Epoch 5/50\n",
            "25/25 [==============================] - 8s 326ms/step - loss: 1.8109 - acc: 0.6765 - precision_4: 0.7451 - recall_4: 0.5811 - val_loss: 2.1603 - val_acc: 0.5987 - val_precision_4: 0.6283 - val_recall_4: 0.4873\n",
            "\n",
            "Epoch 00005: val_acc improved from 0.58643 to 0.59875, saving model to best_weight.h5\n",
            "Epoch 6/50\n",
            "25/25 [==============================] - 8s 326ms/step - loss: 1.5435 - acc: 0.7009 - precision_4: 0.7620 - recall_4: 0.6216 - val_loss: 2.0051 - val_acc: 0.6152 - val_precision_4: 0.6453 - val_recall_4: 0.5474\n",
            "\n",
            "Epoch 00006: val_acc improved from 0.59875 to 0.61519, saving model to best_weight.h5\n",
            "Epoch 7/50\n",
            "25/25 [==============================] - 8s 324ms/step - loss: 1.3302 - acc: 0.7264 - precision_4: 0.7792 - recall_4: 0.6607 - val_loss: 1.8822 - val_acc: 0.6152 - val_precision_4: 0.6422 - val_recall_4: 0.5374\n",
            "\n",
            "Epoch 00007: val_acc improved from 0.61519 to 0.61524, saving model to best_weight.h5\n",
            "Epoch 8/50\n",
            "25/25 [==============================] - 8s 324ms/step - loss: 1.1557 - acc: 0.7460 - precision_4: 0.7961 - recall_4: 0.6858 - val_loss: 1.7827 - val_acc: 0.6062 - val_precision_4: 0.6359 - val_recall_4: 0.5455\n",
            "\n",
            "Epoch 00008: val_acc did not improve from 0.61524\n",
            "Epoch 9/50\n",
            "25/25 [==============================] - 8s 327ms/step - loss: 1.0243 - acc: 0.7571 - precision_4: 0.8038 - recall_4: 0.7032 - val_loss: 1.7318 - val_acc: 0.5918 - val_precision_4: 0.6239 - val_recall_4: 0.5378\n",
            "\n",
            "Epoch 00009: val_acc did not improve from 0.61524\n",
            "Epoch 10/50\n",
            "25/25 [==============================] - 8s 326ms/step - loss: 0.9159 - acc: 0.7721 - precision_4: 0.8162 - recall_4: 0.7203 - val_loss: 1.6716 - val_acc: 0.5898 - val_precision_4: 0.6213 - val_recall_4: 0.5333\n",
            "\n",
            "Epoch 00010: val_acc did not improve from 0.61524\n",
            "Epoch 11/50\n",
            "25/25 [==============================] - 8s 323ms/step - loss: 0.8202 - acc: 0.7856 - precision_4: 0.8277 - recall_4: 0.7398 - val_loss: 1.6604 - val_acc: 0.5953 - val_precision_4: 0.6185 - val_recall_4: 0.5459\n",
            "\n",
            "Epoch 00011: val_acc did not improve from 0.61524\n",
            "Epoch 12/50\n",
            "25/25 [==============================] - 8s 327ms/step - loss: 0.7424 - acc: 0.7993 - precision_4: 0.8362 - recall_4: 0.7573 - val_loss: 1.6362 - val_acc: 0.5883 - val_precision_4: 0.6159 - val_recall_4: 0.5455\n",
            "\n",
            "Epoch 00012: val_acc did not improve from 0.61524\n",
            "Epoch 13/50\n",
            "25/25 [==============================] - 8s 330ms/step - loss: 0.6836 - acc: 0.8080 - precision_4: 0.8425 - recall_4: 0.7697 - val_loss: 1.6763 - val_acc: 0.5908 - val_precision_4: 0.6156 - val_recall_4: 0.5469\n",
            "\n",
            "Epoch 00013: val_acc did not improve from 0.61524\n",
            "Epoch 14/50\n",
            "25/25 [==============================] - 8s 320ms/step - loss: 0.6322 - acc: 0.8186 - precision_4: 0.8505 - recall_4: 0.7842 - val_loss: 1.6841 - val_acc: 0.5925 - val_precision_4: 0.6140 - val_recall_4: 0.5614\n",
            "\n",
            "Epoch 00014: val_acc did not improve from 0.61524\n",
            "Epoch 15/50\n",
            "25/25 [==============================] - 8s 322ms/step - loss: 0.5904 - acc: 0.8270 - precision_4: 0.8566 - recall_4: 0.7957 - val_loss: 1.6531 - val_acc: 0.5910 - val_precision_4: 0.6120 - val_recall_4: 0.5616\n",
            "\n",
            "Epoch 00015: val_acc did not improve from 0.61524\n",
            "Epoch 16/50\n",
            "25/25 [==============================] - 8s 317ms/step - loss: 0.5552 - acc: 0.8357 - precision_4: 0.8631 - recall_4: 0.8059 - val_loss: 1.6908 - val_acc: 0.5905 - val_precision_4: 0.6097 - val_recall_4: 0.5683\n",
            "\n",
            "Epoch 00016: val_acc did not improve from 0.61524\n",
            "Epoch 17/50\n",
            "25/25 [==============================] - 8s 325ms/step - loss: 0.5226 - acc: 0.8438 - precision_4: 0.8689 - recall_4: 0.8155 - val_loss: 1.7341 - val_acc: 0.5887 - val_precision_4: 0.6071 - val_recall_4: 0.5634\n",
            "\n",
            "Epoch 00017: val_acc did not improve from 0.61524\n",
            "Epoch 18/50\n",
            "25/25 [==============================] - 8s 324ms/step - loss: 0.4918 - acc: 0.8516 - precision_4: 0.8751 - recall_4: 0.8266 - val_loss: 1.7702 - val_acc: 0.5785 - val_precision_4: 0.5968 - val_recall_4: 0.5551\n",
            "\n",
            "Epoch 00018: val_acc did not improve from 0.61524\n",
            "Epoch 19/50\n",
            "12/25 [=============>................] - ETA: 3s - loss: 0.4735 - acc: 0.8552 - precision_4: 0.8765 - recall_4: 0.8323"
          ],
          "name": "stdout"
        },
        {
          "output_type": "error",
          "ename": "KeyboardInterrupt",
          "evalue": "ignored",
          "traceback": [
            "\u001b[0;31m---------------------------------------------------------------------------\u001b[0m",
            "\u001b[0;31mKeyboardInterrupt\u001b[0m                         Traceback (most recent call last)",
            "\u001b[0;32m<ipython-input-183-901995ca5f16>\u001b[0m in \u001b[0;36m<module>\u001b[0;34m()\u001b[0m\n\u001b[1;32m      2\u001b[0m          \u001b[0mepochs\u001b[0m\u001b[0;34m=\u001b[0m\u001b[0;36m50\u001b[0m\u001b[0;34m,\u001b[0m\u001b[0;34m\u001b[0m\u001b[0;34m\u001b[0m\u001b[0m\n\u001b[1;32m      3\u001b[0m          \u001b[0mcallbacks\u001b[0m\u001b[0;34m=\u001b[0m\u001b[0;34m[\u001b[0m\u001b[0mLr_change\u001b[0m\u001b[0;34m,\u001b[0m\u001b[0mcheckpoint\u001b[0m\u001b[0;34m]\u001b[0m\u001b[0;34m,\u001b[0m\u001b[0;34m\u001b[0m\u001b[0;34m\u001b[0m\u001b[0m\n\u001b[0;32m----> 4\u001b[0;31m          validation_data=(test_x,test_y))\n\u001b[0m",
            "\u001b[0;32m/usr/local/lib/python3.6/dist-packages/tensorflow/python/keras/engine/training.py\u001b[0m in \u001b[0;36mfit\u001b[0;34m(self, x, y, batch_size, epochs, verbose, callbacks, validation_split, validation_data, shuffle, class_weight, sample_weight, initial_epoch, steps_per_epoch, validation_steps, validation_batch_size, validation_freq, max_queue_size, workers, use_multiprocessing)\u001b[0m\n\u001b[1;32m   1132\u001b[0m                 _r=1):\n\u001b[1;32m   1133\u001b[0m               \u001b[0mcallbacks\u001b[0m\u001b[0;34m.\u001b[0m\u001b[0mon_train_batch_begin\u001b[0m\u001b[0;34m(\u001b[0m\u001b[0mstep\u001b[0m\u001b[0;34m)\u001b[0m\u001b[0;34m\u001b[0m\u001b[0;34m\u001b[0m\u001b[0m\n\u001b[0;32m-> 1134\u001b[0;31m               \u001b[0mtmp_logs\u001b[0m \u001b[0;34m=\u001b[0m \u001b[0mself\u001b[0m\u001b[0;34m.\u001b[0m\u001b[0mtrain_function\u001b[0m\u001b[0;34m(\u001b[0m\u001b[0miterator\u001b[0m\u001b[0;34m)\u001b[0m\u001b[0;34m\u001b[0m\u001b[0;34m\u001b[0m\u001b[0m\n\u001b[0m\u001b[1;32m   1135\u001b[0m               \u001b[0;32mif\u001b[0m \u001b[0mdata_handler\u001b[0m\u001b[0;34m.\u001b[0m\u001b[0mshould_sync\u001b[0m\u001b[0;34m:\u001b[0m\u001b[0;34m\u001b[0m\u001b[0;34m\u001b[0m\u001b[0m\n\u001b[1;32m   1136\u001b[0m                 \u001b[0mcontext\u001b[0m\u001b[0;34m.\u001b[0m\u001b[0masync_wait\u001b[0m\u001b[0;34m(\u001b[0m\u001b[0;34m)\u001b[0m\u001b[0;34m\u001b[0m\u001b[0;34m\u001b[0m\u001b[0m\n",
            "\u001b[0;32m/usr/local/lib/python3.6/dist-packages/tensorflow/python/eager/def_function.py\u001b[0m in \u001b[0;36m__call__\u001b[0;34m(self, *args, **kwds)\u001b[0m\n\u001b[1;32m    816\u001b[0m     \u001b[0mtracing_count\u001b[0m \u001b[0;34m=\u001b[0m \u001b[0mself\u001b[0m\u001b[0;34m.\u001b[0m\u001b[0mexperimental_get_tracing_count\u001b[0m\u001b[0;34m(\u001b[0m\u001b[0;34m)\u001b[0m\u001b[0;34m\u001b[0m\u001b[0;34m\u001b[0m\u001b[0m\n\u001b[1;32m    817\u001b[0m     \u001b[0;32mwith\u001b[0m \u001b[0mtrace\u001b[0m\u001b[0;34m.\u001b[0m\u001b[0mTrace\u001b[0m\u001b[0;34m(\u001b[0m\u001b[0mself\u001b[0m\u001b[0;34m.\u001b[0m\u001b[0m_name\u001b[0m\u001b[0;34m)\u001b[0m \u001b[0;32mas\u001b[0m \u001b[0mtm\u001b[0m\u001b[0;34m:\u001b[0m\u001b[0;34m\u001b[0m\u001b[0;34m\u001b[0m\u001b[0m\n\u001b[0;32m--> 818\u001b[0;31m       \u001b[0mresult\u001b[0m \u001b[0;34m=\u001b[0m \u001b[0mself\u001b[0m\u001b[0;34m.\u001b[0m\u001b[0m_call\u001b[0m\u001b[0;34m(\u001b[0m\u001b[0;34m*\u001b[0m\u001b[0margs\u001b[0m\u001b[0;34m,\u001b[0m \u001b[0;34m**\u001b[0m\u001b[0mkwds\u001b[0m\u001b[0;34m)\u001b[0m\u001b[0;34m\u001b[0m\u001b[0;34m\u001b[0m\u001b[0m\n\u001b[0m\u001b[1;32m    819\u001b[0m       \u001b[0mcompiler\u001b[0m \u001b[0;34m=\u001b[0m \u001b[0;34m\"xla\"\u001b[0m \u001b[0;32mif\u001b[0m \u001b[0mself\u001b[0m\u001b[0;34m.\u001b[0m\u001b[0m_jit_compile\u001b[0m \u001b[0;32melse\u001b[0m \u001b[0;34m\"nonXla\"\u001b[0m\u001b[0;34m\u001b[0m\u001b[0;34m\u001b[0m\u001b[0m\n\u001b[1;32m    820\u001b[0m       \u001b[0mnew_tracing_count\u001b[0m \u001b[0;34m=\u001b[0m \u001b[0mself\u001b[0m\u001b[0;34m.\u001b[0m\u001b[0mexperimental_get_tracing_count\u001b[0m\u001b[0;34m(\u001b[0m\u001b[0;34m)\u001b[0m\u001b[0;34m\u001b[0m\u001b[0;34m\u001b[0m\u001b[0m\n",
            "\u001b[0;32m/usr/local/lib/python3.6/dist-packages/tensorflow/python/eager/def_function.py\u001b[0m in \u001b[0;36m_call\u001b[0;34m(self, *args, **kwds)\u001b[0m\n\u001b[1;32m    844\u001b[0m       \u001b[0;31m# In this case we have created variables on the first call, so we run the\u001b[0m\u001b[0;34m\u001b[0m\u001b[0;34m\u001b[0m\u001b[0;34m\u001b[0m\u001b[0m\n\u001b[1;32m    845\u001b[0m       \u001b[0;31m# defunned version which is guaranteed to never create variables.\u001b[0m\u001b[0;34m\u001b[0m\u001b[0;34m\u001b[0m\u001b[0;34m\u001b[0m\u001b[0m\n\u001b[0;32m--> 846\u001b[0;31m       \u001b[0;32mreturn\u001b[0m \u001b[0mself\u001b[0m\u001b[0;34m.\u001b[0m\u001b[0m_stateless_fn\u001b[0m\u001b[0;34m(\u001b[0m\u001b[0;34m*\u001b[0m\u001b[0margs\u001b[0m\u001b[0;34m,\u001b[0m \u001b[0;34m**\u001b[0m\u001b[0mkwds\u001b[0m\u001b[0;34m)\u001b[0m  \u001b[0;31m# pylint: disable=not-callable\u001b[0m\u001b[0;34m\u001b[0m\u001b[0;34m\u001b[0m\u001b[0m\n\u001b[0m\u001b[1;32m    847\u001b[0m     \u001b[0;32melif\u001b[0m \u001b[0mself\u001b[0m\u001b[0;34m.\u001b[0m\u001b[0m_stateful_fn\u001b[0m \u001b[0;32mis\u001b[0m \u001b[0;32mnot\u001b[0m \u001b[0;32mNone\u001b[0m\u001b[0;34m:\u001b[0m\u001b[0;34m\u001b[0m\u001b[0;34m\u001b[0m\u001b[0m\n\u001b[1;32m    848\u001b[0m       \u001b[0;31m# Release the lock early so that multiple threads can perform the call\u001b[0m\u001b[0;34m\u001b[0m\u001b[0;34m\u001b[0m\u001b[0;34m\u001b[0m\u001b[0m\n",
            "\u001b[0;32m/usr/local/lib/python3.6/dist-packages/tensorflow/python/eager/function.py\u001b[0m in \u001b[0;36m__call__\u001b[0;34m(self, *args, **kwargs)\u001b[0m\n\u001b[1;32m   2992\u001b[0m        filtered_flat_args) = self._maybe_define_function(args, kwargs)\n\u001b[1;32m   2993\u001b[0m     return graph_function._call_flat(\n\u001b[0;32m-> 2994\u001b[0;31m         filtered_flat_args, captured_inputs=graph_function.captured_inputs)  # pylint: disable=protected-access\n\u001b[0m\u001b[1;32m   2995\u001b[0m \u001b[0;34m\u001b[0m\u001b[0m\n\u001b[1;32m   2996\u001b[0m   \u001b[0;34m@\u001b[0m\u001b[0mproperty\u001b[0m\u001b[0;34m\u001b[0m\u001b[0;34m\u001b[0m\u001b[0m\n",
            "\u001b[0;32m/usr/local/lib/python3.6/dist-packages/tensorflow/python/eager/function.py\u001b[0m in \u001b[0;36m_call_flat\u001b[0;34m(self, args, captured_inputs, cancellation_manager)\u001b[0m\n\u001b[1;32m   1937\u001b[0m       \u001b[0;31m# No tape is watching; skip to running the function.\u001b[0m\u001b[0;34m\u001b[0m\u001b[0;34m\u001b[0m\u001b[0;34m\u001b[0m\u001b[0m\n\u001b[1;32m   1938\u001b[0m       return self._build_call_outputs(self._inference_function.call(\n\u001b[0;32m-> 1939\u001b[0;31m           ctx, args, cancellation_manager=cancellation_manager))\n\u001b[0m\u001b[1;32m   1940\u001b[0m     forward_backward = self._select_forward_and_backward_functions(\n\u001b[1;32m   1941\u001b[0m         \u001b[0margs\u001b[0m\u001b[0;34m,\u001b[0m\u001b[0;34m\u001b[0m\u001b[0;34m\u001b[0m\u001b[0m\n",
            "\u001b[0;32m/usr/local/lib/python3.6/dist-packages/tensorflow/python/eager/function.py\u001b[0m in \u001b[0;36mcall\u001b[0;34m(self, ctx, args, cancellation_manager)\u001b[0m\n\u001b[1;32m    567\u001b[0m               \u001b[0minputs\u001b[0m\u001b[0;34m=\u001b[0m\u001b[0margs\u001b[0m\u001b[0;34m,\u001b[0m\u001b[0;34m\u001b[0m\u001b[0;34m\u001b[0m\u001b[0m\n\u001b[1;32m    568\u001b[0m               \u001b[0mattrs\u001b[0m\u001b[0;34m=\u001b[0m\u001b[0mattrs\u001b[0m\u001b[0;34m,\u001b[0m\u001b[0;34m\u001b[0m\u001b[0;34m\u001b[0m\u001b[0m\n\u001b[0;32m--> 569\u001b[0;31m               ctx=ctx)\n\u001b[0m\u001b[1;32m    570\u001b[0m         \u001b[0;32melse\u001b[0m\u001b[0;34m:\u001b[0m\u001b[0;34m\u001b[0m\u001b[0;34m\u001b[0m\u001b[0m\n\u001b[1;32m    571\u001b[0m           outputs = execute.execute_with_cancellation(\n",
            "\u001b[0;32m/usr/local/lib/python3.6/dist-packages/tensorflow/python/eager/execute.py\u001b[0m in \u001b[0;36mquick_execute\u001b[0;34m(op_name, num_outputs, inputs, attrs, ctx, name)\u001b[0m\n\u001b[1;32m     58\u001b[0m     \u001b[0mctx\u001b[0m\u001b[0;34m.\u001b[0m\u001b[0mensure_initialized\u001b[0m\u001b[0;34m(\u001b[0m\u001b[0;34m)\u001b[0m\u001b[0;34m\u001b[0m\u001b[0;34m\u001b[0m\u001b[0m\n\u001b[1;32m     59\u001b[0m     tensors = pywrap_tfe.TFE_Py_Execute(ctx._handle, device_name, op_name,\n\u001b[0;32m---> 60\u001b[0;31m                                         inputs, attrs, num_outputs)\n\u001b[0m\u001b[1;32m     61\u001b[0m   \u001b[0;32mexcept\u001b[0m \u001b[0mcore\u001b[0m\u001b[0;34m.\u001b[0m\u001b[0m_NotOkStatusException\u001b[0m \u001b[0;32mas\u001b[0m \u001b[0me\u001b[0m\u001b[0;34m:\u001b[0m\u001b[0;34m\u001b[0m\u001b[0;34m\u001b[0m\u001b[0m\n\u001b[1;32m     62\u001b[0m     \u001b[0;32mif\u001b[0m \u001b[0mname\u001b[0m \u001b[0;32mis\u001b[0m \u001b[0;32mnot\u001b[0m \u001b[0;32mNone\u001b[0m\u001b[0;34m:\u001b[0m\u001b[0;34m\u001b[0m\u001b[0;34m\u001b[0m\u001b[0m\n",
            "\u001b[0;31mKeyboardInterrupt\u001b[0m: "
          ]
        }
      ]
    },
    {
      "cell_type": "code",
      "metadata": {
        "id": "cfgkoL7vR6h1"
      },
      "source": [
        "new_model = tf.keras.models.load_model('/content/best_weight.h5')"
      ],
      "execution_count": 184,
      "outputs": []
    },
    {
      "cell_type": "code",
      "metadata": {
        "id": "REMxfJCfKwo6"
      },
      "source": [
        ""
      ],
      "execution_count": 184,
      "outputs": []
    },
    {
      "cell_type": "markdown",
      "metadata": {
        "id": "5R0osH8N6ZF2"
      },
      "source": [
        "# 数据预测"
      ]
    },
    {
      "cell_type": "code",
      "metadata": {
        "id": "iG9FNLML6AeO"
      },
      "source": [
        "blind1 = pd.read_csv('/content/blind1.csv')"
      ],
      "execution_count": 185,
      "outputs": []
    },
    {
      "cell_type": "code",
      "metadata": {
        "colab": {
          "base_uri": "https://localhost:8080/",
          "height": 406
        },
        "id": "gUWexDwdACWC",
        "outputId": "c9d3dd17-1a64-42e8-dde1-72331efe8c6f"
      },
      "source": [
        "blind1"
      ],
      "execution_count": 186,
      "outputs": [
        {
          "output_type": "execute_result",
          "data": {
            "text/html": [
              "<div>\n",
              "<style scoped>\n",
              "    .dataframe tbody tr th:only-of-type {\n",
              "        vertical-align: middle;\n",
              "    }\n",
              "\n",
              "    .dataframe tbody tr th {\n",
              "        vertical-align: top;\n",
              "    }\n",
              "\n",
              "    .dataframe thead th {\n",
              "        text-align: right;\n",
              "    }\n",
              "</style>\n",
              "<table border=\"1\" class=\"dataframe\">\n",
              "  <thead>\n",
              "    <tr style=\"text-align: right;\">\n",
              "      <th></th>\n",
              "      <th>Unnamed: 0</th>\n",
              "      <th>Formation</th>\n",
              "      <th>Well Name</th>\n",
              "      <th>Depth</th>\n",
              "      <th>GR</th>\n",
              "      <th>ILD_log10</th>\n",
              "      <th>DeltaPHI</th>\n",
              "      <th>PHIND</th>\n",
              "      <th>PE</th>\n",
              "      <th>NM_M</th>\n",
              "      <th>RELPOS</th>\n",
              "      <th>Facies</th>\n",
              "    </tr>\n",
              "  </thead>\n",
              "  <tbody>\n",
              "    <tr>\n",
              "      <th>0</th>\n",
              "      <td>0</td>\n",
              "      <td>0.076923</td>\n",
              "      <td>1</td>\n",
              "      <td>0.000000</td>\n",
              "      <td>0.260297</td>\n",
              "      <td>0.555949</td>\n",
              "      <td>0.480315</td>\n",
              "      <td>0.298338</td>\n",
              "      <td>0.351236</td>\n",
              "      <td>0</td>\n",
              "      <td>1.000000</td>\n",
              "      <td>3</td>\n",
              "    </tr>\n",
              "    <tr>\n",
              "      <th>1</th>\n",
              "      <td>1</td>\n",
              "      <td>0.076923</td>\n",
              "      <td>1</td>\n",
              "      <td>0.001418</td>\n",
              "      <td>0.312971</td>\n",
              "      <td>0.533165</td>\n",
              "      <td>0.606299</td>\n",
              "      <td>0.342436</td>\n",
              "      <td>0.291825</td>\n",
              "      <td>0</td>\n",
              "      <td>0.977710</td>\n",
              "      <td>3</td>\n",
              "    </tr>\n",
              "    <tr>\n",
              "      <th>2</th>\n",
              "      <td>2</td>\n",
              "      <td>0.076923</td>\n",
              "      <td>1</td>\n",
              "      <td>0.002837</td>\n",
              "      <td>0.340071</td>\n",
              "      <td>0.523544</td>\n",
              "      <td>0.720472</td>\n",
              "      <td>0.398406</td>\n",
              "      <td>0.225998</td>\n",
              "      <td>0</td>\n",
              "      <td>0.955420</td>\n",
              "      <td>3</td>\n",
              "    </tr>\n",
              "    <tr>\n",
              "      <th>3</th>\n",
              "      <td>3</td>\n",
              "      <td>0.076923</td>\n",
              "      <td>1</td>\n",
              "      <td>0.004255</td>\n",
              "      <td>0.329379</td>\n",
              "      <td>0.537215</td>\n",
              "      <td>0.724409</td>\n",
              "      <td>0.386533</td>\n",
              "      <td>0.205323</td>\n",
              "      <td>0</td>\n",
              "      <td>0.932118</td>\n",
              "      <td>3</td>\n",
              "    </tr>\n",
              "    <tr>\n",
              "      <th>4</th>\n",
              "      <td>4</td>\n",
              "      <td>0.076923</td>\n",
              "      <td>1</td>\n",
              "      <td>0.005674</td>\n",
              "      <td>0.306824</td>\n",
              "      <td>0.560000</td>\n",
              "      <td>0.692913</td>\n",
              "      <td>0.356004</td>\n",
              "      <td>0.215542</td>\n",
              "      <td>0</td>\n",
              "      <td>0.909828</td>\n",
              "      <td>3</td>\n",
              "    </tr>\n",
              "    <tr>\n",
              "      <th>...</th>\n",
              "      <td>...</td>\n",
              "      <td>...</td>\n",
              "      <td>...</td>\n",
              "      <td>...</td>\n",
              "      <td>...</td>\n",
              "      <td>...</td>\n",
              "      <td>...</td>\n",
              "      <td>...</td>\n",
              "      <td>...</td>\n",
              "      <td>...</td>\n",
              "      <td>...</td>\n",
              "      <td>...</td>\n",
              "    </tr>\n",
              "    <tr>\n",
              "      <th>469</th>\n",
              "      <td>469</td>\n",
              "      <td>0.923077</td>\n",
              "      <td>1</td>\n",
              "      <td>0.665248</td>\n",
              "      <td>0.267050</td>\n",
              "      <td>0.591899</td>\n",
              "      <td>0.586614</td>\n",
              "      <td>0.452680</td>\n",
              "      <td>0.354087</td>\n",
              "      <td>1</td>\n",
              "      <td>0.281662</td>\n",
              "      <td>4</td>\n",
              "    </tr>\n",
              "    <tr>\n",
              "      <th>470</th>\n",
              "      <td>470</td>\n",
              "      <td>0.923077</td>\n",
              "      <td>1</td>\n",
              "      <td>0.666667</td>\n",
              "      <td>0.267050</td>\n",
              "      <td>0.630886</td>\n",
              "      <td>0.551181</td>\n",
              "      <td>0.467944</td>\n",
              "      <td>0.338403</td>\n",
              "      <td>1</td>\n",
              "      <td>0.274569</td>\n",
              "      <td>4</td>\n",
              "    </tr>\n",
              "    <tr>\n",
              "      <th>471</th>\n",
              "      <td>471</td>\n",
              "      <td>0.923077</td>\n",
              "      <td>1</td>\n",
              "      <td>0.668085</td>\n",
              "      <td>0.267050</td>\n",
              "      <td>0.683544</td>\n",
              "      <td>0.543307</td>\n",
              "      <td>0.471336</td>\n",
              "      <td>0.340779</td>\n",
              "      <td>1</td>\n",
              "      <td>0.266464</td>\n",
              "      <td>4</td>\n",
              "    </tr>\n",
              "    <tr>\n",
              "      <th>472</th>\n",
              "      <td>472</td>\n",
              "      <td>0.923077</td>\n",
              "      <td>1</td>\n",
              "      <td>0.669504</td>\n",
              "      <td>0.267050</td>\n",
              "      <td>0.729620</td>\n",
              "      <td>0.523622</td>\n",
              "      <td>0.473033</td>\n",
              "      <td>0.337452</td>\n",
              "      <td>1</td>\n",
              "      <td>0.259372</td>\n",
              "      <td>5</td>\n",
              "    </tr>\n",
              "    <tr>\n",
              "      <th>473</th>\n",
              "      <td>473</td>\n",
              "      <td>0.923077</td>\n",
              "      <td>1</td>\n",
              "      <td>0.670922</td>\n",
              "      <td>0.267050</td>\n",
              "      <td>0.751899</td>\n",
              "      <td>0.488189</td>\n",
              "      <td>0.488297</td>\n",
              "      <td>0.328422</td>\n",
              "      <td>1</td>\n",
              "      <td>0.251266</td>\n",
              "      <td>8</td>\n",
              "    </tr>\n",
              "  </tbody>\n",
              "</table>\n",
              "<p>474 rows × 12 columns</p>\n",
              "</div>"
            ],
            "text/plain": [
              "     Unnamed: 0  Formation  Well Name  ...  NM_M    RELPOS  Facies\n",
              "0             0   0.076923          1  ...     0  1.000000       3\n",
              "1             1   0.076923          1  ...     0  0.977710       3\n",
              "2             2   0.076923          1  ...     0  0.955420       3\n",
              "3             3   0.076923          1  ...     0  0.932118       3\n",
              "4             4   0.076923          1  ...     0  0.909828       3\n",
              "..          ...        ...        ...  ...   ...       ...     ...\n",
              "469         469   0.923077          1  ...     1  0.281662       4\n",
              "470         470   0.923077          1  ...     1  0.274569       4\n",
              "471         471   0.923077          1  ...     1  0.266464       4\n",
              "472         472   0.923077          1  ...     1  0.259372       5\n",
              "473         473   0.923077          1  ...     1  0.251266       8\n",
              "\n",
              "[474 rows x 12 columns]"
            ]
          },
          "metadata": {
            "tags": []
          },
          "execution_count": 186
        }
      ]
    },
    {
      "cell_type": "code",
      "metadata": {
        "id": "D27ZfMQ36Aa8"
      },
      "source": [
        "blind_2 = pd.read_csv('/content/blind2.csv')"
      ],
      "execution_count": 187,
      "outputs": []
    },
    {
      "cell_type": "code",
      "metadata": {
        "colab": {
          "base_uri": "https://localhost:8080/",
          "height": 406
        },
        "id": "E1Wj9_CN7V8d",
        "outputId": "1430617d-acb9-4d0d-eff6-9a13d0b3c577"
      },
      "source": [
        "blind_2"
      ],
      "execution_count": 188,
      "outputs": [
        {
          "output_type": "execute_result",
          "data": {
            "text/html": [
              "<div>\n",
              "<style scoped>\n",
              "    .dataframe tbody tr th:only-of-type {\n",
              "        vertical-align: middle;\n",
              "    }\n",
              "\n",
              "    .dataframe tbody tr th {\n",
              "        vertical-align: top;\n",
              "    }\n",
              "\n",
              "    .dataframe thead th {\n",
              "        text-align: right;\n",
              "    }\n",
              "</style>\n",
              "<table border=\"1\" class=\"dataframe\">\n",
              "  <thead>\n",
              "    <tr style=\"text-align: right;\">\n",
              "      <th></th>\n",
              "      <th>Unnamed: 0</th>\n",
              "      <th>Formation</th>\n",
              "      <th>Well Name</th>\n",
              "      <th>Depth</th>\n",
              "      <th>GR</th>\n",
              "      <th>ILD_log10</th>\n",
              "      <th>DeltaPHI</th>\n",
              "      <th>PHIND</th>\n",
              "      <th>PE</th>\n",
              "      <th>NM_M</th>\n",
              "      <th>RELPOS</th>\n",
              "      <th>Facies</th>\n",
              "    </tr>\n",
              "  </thead>\n",
              "  <tbody>\n",
              "    <tr>\n",
              "      <th>0</th>\n",
              "      <td>0</td>\n",
              "      <td>0.0</td>\n",
              "      <td>0</td>\n",
              "      <td>0.466667</td>\n",
              "      <td>0.180629</td>\n",
              "      <td>0.664810</td>\n",
              "      <td>0.504134</td>\n",
              "      <td>0.316147</td>\n",
              "      <td>0.273764</td>\n",
              "      <td>1</td>\n",
              "      <td>1.000000</td>\n",
              "      <td>6</td>\n",
              "    </tr>\n",
              "    <tr>\n",
              "      <th>1</th>\n",
              "      <td>1</td>\n",
              "      <td>0.0</td>\n",
              "      <td>0</td>\n",
              "      <td>0.468085</td>\n",
              "      <td>0.107493</td>\n",
              "      <td>0.682025</td>\n",
              "      <td>0.471850</td>\n",
              "      <td>0.214383</td>\n",
              "      <td>0.408270</td>\n",
              "      <td>1</td>\n",
              "      <td>0.990881</td>\n",
              "      <td>8</td>\n",
              "    </tr>\n",
              "    <tr>\n",
              "      <th>2</th>\n",
              "      <td>2</td>\n",
              "      <td>0.0</td>\n",
              "      <td>0</td>\n",
              "      <td>0.469504</td>\n",
              "      <td>0.067867</td>\n",
              "      <td>0.702785</td>\n",
              "      <td>0.453346</td>\n",
              "      <td>0.104817</td>\n",
              "      <td>0.521150</td>\n",
              "      <td>1</td>\n",
              "      <td>0.980750</td>\n",
              "      <td>8</td>\n",
              "    </tr>\n",
              "    <tr>\n",
              "      <th>3</th>\n",
              "      <td>3</td>\n",
              "      <td>0.0</td>\n",
              "      <td>0</td>\n",
              "      <td>0.470922</td>\n",
              "      <td>0.035642</td>\n",
              "      <td>0.726582</td>\n",
              "      <td>0.382677</td>\n",
              "      <td>0.066655</td>\n",
              "      <td>0.585789</td>\n",
              "      <td>1</td>\n",
              "      <td>0.971631</td>\n",
              "      <td>8</td>\n",
              "    </tr>\n",
              "    <tr>\n",
              "      <th>4</th>\n",
              "      <td>4</td>\n",
              "      <td>0.0</td>\n",
              "      <td>0</td>\n",
              "      <td>0.472340</td>\n",
              "      <td>0.034668</td>\n",
              "      <td>0.740759</td>\n",
              "      <td>0.362992</td>\n",
              "      <td>0.060210</td>\n",
              "      <td>0.601236</td>\n",
              "      <td>1</td>\n",
              "      <td>0.961499</td>\n",
              "      <td>8</td>\n",
              "    </tr>\n",
              "    <tr>\n",
              "      <th>...</th>\n",
              "      <td>...</td>\n",
              "      <td>...</td>\n",
              "      <td>...</td>\n",
              "      <td>...</td>\n",
              "      <td>...</td>\n",
              "      <td>...</td>\n",
              "      <td>...</td>\n",
              "      <td>...</td>\n",
              "      <td>...</td>\n",
              "      <td>...</td>\n",
              "      <td>...</td>\n",
              "      <td>...</td>\n",
              "    </tr>\n",
              "    <tr>\n",
              "      <th>351</th>\n",
              "      <td>351</td>\n",
              "      <td>1.0</td>\n",
              "      <td>0</td>\n",
              "      <td>0.994326</td>\n",
              "      <td>0.355327</td>\n",
              "      <td>0.517468</td>\n",
              "      <td>0.548819</td>\n",
              "      <td>0.484905</td>\n",
              "      <td>0.249049</td>\n",
              "      <td>0</td>\n",
              "      <td>0.634245</td>\n",
              "      <td>3</td>\n",
              "    </tr>\n",
              "    <tr>\n",
              "      <th>352</th>\n",
              "      <td>352</td>\n",
              "      <td>1.0</td>\n",
              "      <td>0</td>\n",
              "      <td>0.995745</td>\n",
              "      <td>0.368654</td>\n",
              "      <td>0.509873</td>\n",
              "      <td>0.569291</td>\n",
              "      <td>0.505258</td>\n",
              "      <td>0.238831</td>\n",
              "      <td>0</td>\n",
              "      <td>0.605876</td>\n",
              "      <td>3</td>\n",
              "    </tr>\n",
              "    <tr>\n",
              "      <th>353</th>\n",
              "      <td>353</td>\n",
              "      <td>1.0</td>\n",
              "      <td>0</td>\n",
              "      <td>0.997163</td>\n",
              "      <td>0.376500</td>\n",
              "      <td>0.505316</td>\n",
              "      <td>0.600787</td>\n",
              "      <td>0.506275</td>\n",
              "      <td>0.250713</td>\n",
              "      <td>0</td>\n",
              "      <td>0.577508</td>\n",
              "      <td>3</td>\n",
              "    </tr>\n",
              "    <tr>\n",
              "      <th>354</th>\n",
              "      <td>354</td>\n",
              "      <td>1.0</td>\n",
              "      <td>0</td>\n",
              "      <td>0.998582</td>\n",
              "      <td>0.378828</td>\n",
              "      <td>0.501266</td>\n",
              "      <td>0.627362</td>\n",
              "      <td>0.513569</td>\n",
              "      <td>0.247386</td>\n",
              "      <td>0</td>\n",
              "      <td>0.550152</td>\n",
              "      <td>3</td>\n",
              "    </tr>\n",
              "    <tr>\n",
              "      <th>355</th>\n",
              "      <td>355</td>\n",
              "      <td>1.0</td>\n",
              "      <td>0</td>\n",
              "      <td>1.000000</td>\n",
              "      <td>0.374667</td>\n",
              "      <td>0.496709</td>\n",
              "      <td>0.645866</td>\n",
              "      <td>0.533921</td>\n",
              "      <td>0.240494</td>\n",
              "      <td>0</td>\n",
              "      <td>0.521783</td>\n",
              "      <td>3</td>\n",
              "    </tr>\n",
              "  </tbody>\n",
              "</table>\n",
              "<p>356 rows × 12 columns</p>\n",
              "</div>"
            ],
            "text/plain": [
              "     Unnamed: 0  Formation  Well Name  ...  NM_M    RELPOS  Facies\n",
              "0             0        0.0          0  ...     1  1.000000       6\n",
              "1             1        0.0          0  ...     1  0.990881       8\n",
              "2             2        0.0          0  ...     1  0.980750       8\n",
              "3             3        0.0          0  ...     1  0.971631       8\n",
              "4             4        0.0          0  ...     1  0.961499       8\n",
              "..          ...        ...        ...  ...   ...       ...     ...\n",
              "351         351        1.0          0  ...     0  0.634245       3\n",
              "352         352        1.0          0  ...     0  0.605876       3\n",
              "353         353        1.0          0  ...     0  0.577508       3\n",
              "354         354        1.0          0  ...     0  0.550152       3\n",
              "355         355        1.0          0  ...     0  0.521783       3\n",
              "\n",
              "[356 rows x 12 columns]"
            ]
          },
          "metadata": {
            "tags": []
          },
          "execution_count": 188
        }
      ]
    },
    {
      "cell_type": "code",
      "metadata": {
        "id": "GayxkykK68u7"
      },
      "source": [
        "def check(data):\r\n",
        "  data = data.drop(columns=['Unnamed: 0','Well Name'])\r\n",
        "  data_test = []\r\n",
        "  for i in range(len(data)-seq_length):\r\n",
        "    data_test.append(data.iloc[i:i+seq_length])\r\n",
        "  data_test = np.array([df.values for df in data_test])\r\n",
        "  print(data_test.shape)\r\n",
        "  data_x = data_test[:,:,:9]\r\n",
        "  data_y = data_test[:,:,-1]-1\r\n",
        "  data_y = np.array(data_y)\r\n",
        "  data_y = tf.keras.utils.to_categorical(data_y)\r\n",
        "\r\n",
        "  return data_x,data_y"
      ],
      "execution_count": 189,
      "outputs": []
    },
    {
      "cell_type": "code",
      "metadata": {
        "colab": {
          "base_uri": "https://localhost:8080/"
        },
        "id": "x0X5gjh268sC",
        "outputId": "61bb51bc-6d20-48b6-ce11-3e4d01660a52"
      },
      "source": [
        "blind1_x,blind1_y = check(blind1)"
      ],
      "execution_count": 190,
      "outputs": [
        {
          "output_type": "stream",
          "text": [
            "(374, 100, 10)\n"
          ],
          "name": "stdout"
        }
      ]
    },
    {
      "cell_type": "code",
      "metadata": {
        "colab": {
          "base_uri": "https://localhost:8080/"
        },
        "id": "wVQrcuIa68oi",
        "outputId": "80a78f29-636c-4e86-bac7-431808d4f9ee"
      },
      "source": [
        "blind2_x,blind2_y = check(blind_2)"
      ],
      "execution_count": 191,
      "outputs": [
        {
          "output_type": "stream",
          "text": [
            "(256, 100, 10)\n"
          ],
          "name": "stdout"
        }
      ]
    },
    {
      "cell_type": "code",
      "metadata": {
        "id": "fmcerr1a68gR"
      },
      "source": [
        "pred_1 = new_model.predict(blind1_x)"
      ],
      "execution_count": 192,
      "outputs": []
    },
    {
      "cell_type": "code",
      "metadata": {
        "id": "Cc2MwVFy68aM"
      },
      "source": [
        "pred_2 = new_model.predict(blind2_x)"
      ],
      "execution_count": 193,
      "outputs": []
    },
    {
      "cell_type": "code",
      "metadata": {
        "id": "B2odsmvWYDPe"
      },
      "source": [
        "import torch"
      ],
      "execution_count": 194,
      "outputs": []
    },
    {
      "cell_type": "code",
      "metadata": {
        "colab": {
          "base_uri": "https://localhost:8080/"
        },
        "id": "y2JObI7a9_NY",
        "outputId": "59a48807-e073-49db-8810-362d77a70fcd"
      },
      "source": [
        "pred_1.shape"
      ],
      "execution_count": 195,
      "outputs": [
        {
          "output_type": "execute_result",
          "data": {
            "text/plain": [
              "(374, 100, 9)"
            ]
          },
          "metadata": {
            "tags": []
          },
          "execution_count": 195
        }
      ]
    },
    {
      "cell_type": "markdown",
      "metadata": {
        "id": "U_ondx729vcG"
      },
      "source": [
        "## 处理1"
      ]
    },
    {
      "cell_type": "code",
      "metadata": {
        "id": "3s15_2Wz9rAL"
      },
      "source": [
        "def check1(pred):\r\n",
        "  y_pred_1 = pred[:,50,:]\r\n",
        "  y_pred_1_first = pred[0,:50,:]\r\n",
        "  y_pred_1_last = pred[-1,50:,:]\r\n",
        "  y_pred_1 = torch.from_numpy(y_pred_1)\r\n",
        "  y_pred_1 = torch.topk(y_pred_1,1)[1].squeeze(1)\r\n",
        "  y_pred_1 = y_pred_1.numpy()\r\n",
        "  y_pred_1_first = torch.from_numpy(y_pred_1_first)\r\n",
        "  y_pred_1_first = torch.topk(y_pred_1_first,1)[1].squeeze(1)\r\n",
        "  y_pred_1_first = y_pred_1_first.numpy()\r\n",
        "  y_pred_1_last = torch.from_numpy(y_pred_1_last)\r\n",
        "  y_pred_1_last = torch.topk(y_pred_1_last,1)[1].squeeze(1)\r\n",
        "  y_pred_1_last = y_pred_1_last.numpy()\r\n",
        "  y_ture = np.append(y_pred_1_first,y_pred_1)\r\n",
        "  y_true = np.append(y_ture,y_pred_1_last)\r\n",
        "  return y_true"
      ],
      "execution_count": 196,
      "outputs": []
    },
    {
      "cell_type": "code",
      "metadata": {
        "id": "IJD6EgYd_nTv"
      },
      "source": [
        "y_true_pred_1 = check1(pred_1)"
      ],
      "execution_count": 197,
      "outputs": []
    },
    {
      "cell_type": "code",
      "metadata": {
        "id": "nwObPk5w_zvA"
      },
      "source": [
        "y_true_pred_2 = check1(pred_2)"
      ],
      "execution_count": 198,
      "outputs": []
    },
    {
      "cell_type": "code",
      "metadata": {
        "colab": {
          "base_uri": "https://localhost:8080/"
        },
        "id": "yoNFBE1K_7T2",
        "outputId": "6993ebb3-79f7-4c41-a6bc-c82659ea71a5"
      },
      "source": [
        "y_true_pred_1.shape"
      ],
      "execution_count": 199,
      "outputs": [
        {
          "output_type": "execute_result",
          "data": {
            "text/plain": [
              "(474,)"
            ]
          },
          "metadata": {
            "tags": []
          },
          "execution_count": 199
        }
      ]
    },
    {
      "cell_type": "code",
      "metadata": {
        "id": "H70EbWVHBl4c"
      },
      "source": [
        "y_pred_true = np.append(y_true_pred_1,y_true_pred_2)"
      ],
      "execution_count": 200,
      "outputs": []
    },
    {
      "cell_type": "code",
      "metadata": {
        "id": "WYk8u9ykvrkq"
      },
      "source": [
        "y_pred_1 = pd.DataFrame(y_pred_true)"
      ],
      "execution_count": 201,
      "outputs": []
    },
    {
      "cell_type": "code",
      "metadata": {
        "id": "M_3zqWzBAJjd"
      },
      "source": [
        "y_pred_1 = y_pred_1+1"
      ],
      "execution_count": 202,
      "outputs": []
    },
    {
      "cell_type": "code",
      "metadata": {
        "id": "2bJMP68jxO_f"
      },
      "source": [
        "y_pred_1.to_csv('transformer.csv')"
      ],
      "execution_count": 203,
      "outputs": []
    },
    {
      "cell_type": "code",
      "metadata": {
        "id": "xLcaRv5KPfTh"
      },
      "source": [
        "blind_ = pd.read_csv('/content/numpy-/美国油田/blind_data.csv')"
      ],
      "execution_count": 204,
      "outputs": []
    },
    {
      "cell_type": "code",
      "metadata": {
        "colab": {
          "base_uri": "https://localhost:8080/",
          "height": 406
        },
        "id": "_hXokBhbk_Mz",
        "outputId": "710a7458-026b-4451-f734-eaebfbb0531e"
      },
      "source": [
        "blind_"
      ],
      "execution_count": 205,
      "outputs": [
        {
          "output_type": "execute_result",
          "data": {
            "text/html": [
              "<div>\n",
              "<style scoped>\n",
              "    .dataframe tbody tr th:only-of-type {\n",
              "        vertical-align: middle;\n",
              "    }\n",
              "\n",
              "    .dataframe tbody tr th {\n",
              "        vertical-align: top;\n",
              "    }\n",
              "\n",
              "    .dataframe thead th {\n",
              "        text-align: right;\n",
              "    }\n",
              "</style>\n",
              "<table border=\"1\" class=\"dataframe\">\n",
              "  <thead>\n",
              "    <tr style=\"text-align: right;\">\n",
              "      <th></th>\n",
              "      <th>Unnamed: 0</th>\n",
              "      <th>Formation</th>\n",
              "      <th>Well Name</th>\n",
              "      <th>Depth</th>\n",
              "      <th>GR</th>\n",
              "      <th>ILD_log10</th>\n",
              "      <th>DeltaPHI</th>\n",
              "      <th>PHIND</th>\n",
              "      <th>PE</th>\n",
              "      <th>NM_M</th>\n",
              "      <th>RELPOS</th>\n",
              "      <th>Facies</th>\n",
              "    </tr>\n",
              "  </thead>\n",
              "  <tbody>\n",
              "    <tr>\n",
              "      <th>0</th>\n",
              "      <td>0</td>\n",
              "      <td>A1 SH</td>\n",
              "      <td>STUART</td>\n",
              "      <td>2808.0</td>\n",
              "      <td>66.276</td>\n",
              "      <td>0.630</td>\n",
              "      <td>3.300</td>\n",
              "      <td>10.650</td>\n",
              "      <td>3.591</td>\n",
              "      <td>1</td>\n",
              "      <td>1.000</td>\n",
              "      <td>3</td>\n",
              "    </tr>\n",
              "    <tr>\n",
              "      <th>1</th>\n",
              "      <td>1</td>\n",
              "      <td>A1 SH</td>\n",
              "      <td>STUART</td>\n",
              "      <td>2808.5</td>\n",
              "      <td>77.252</td>\n",
              "      <td>0.585</td>\n",
              "      <td>6.500</td>\n",
              "      <td>11.950</td>\n",
              "      <td>3.341</td>\n",
              "      <td>1</td>\n",
              "      <td>0.978</td>\n",
              "      <td>3</td>\n",
              "    </tr>\n",
              "    <tr>\n",
              "      <th>2</th>\n",
              "      <td>2</td>\n",
              "      <td>A1 SH</td>\n",
              "      <td>STUART</td>\n",
              "      <td>2809.0</td>\n",
              "      <td>82.899</td>\n",
              "      <td>0.566</td>\n",
              "      <td>9.400</td>\n",
              "      <td>13.600</td>\n",
              "      <td>3.064</td>\n",
              "      <td>1</td>\n",
              "      <td>0.956</td>\n",
              "      <td>3</td>\n",
              "    </tr>\n",
              "    <tr>\n",
              "      <th>3</th>\n",
              "      <td>3</td>\n",
              "      <td>A1 SH</td>\n",
              "      <td>STUART</td>\n",
              "      <td>2809.5</td>\n",
              "      <td>80.671</td>\n",
              "      <td>0.593</td>\n",
              "      <td>9.500</td>\n",
              "      <td>13.250</td>\n",
              "      <td>2.977</td>\n",
              "      <td>1</td>\n",
              "      <td>0.933</td>\n",
              "      <td>3</td>\n",
              "    </tr>\n",
              "    <tr>\n",
              "      <th>4</th>\n",
              "      <td>4</td>\n",
              "      <td>A1 SH</td>\n",
              "      <td>STUART</td>\n",
              "      <td>2810.0</td>\n",
              "      <td>75.971</td>\n",
              "      <td>0.638</td>\n",
              "      <td>8.700</td>\n",
              "      <td>12.350</td>\n",
              "      <td>3.020</td>\n",
              "      <td>1</td>\n",
              "      <td>0.911</td>\n",
              "      <td>3</td>\n",
              "    </tr>\n",
              "    <tr>\n",
              "      <th>...</th>\n",
              "      <td>...</td>\n",
              "      <td>...</td>\n",
              "      <td>...</td>\n",
              "      <td>...</td>\n",
              "      <td>...</td>\n",
              "      <td>...</td>\n",
              "      <td>...</td>\n",
              "      <td>...</td>\n",
              "      <td>...</td>\n",
              "      <td>...</td>\n",
              "      <td>...</td>\n",
              "      <td>...</td>\n",
              "    </tr>\n",
              "    <tr>\n",
              "      <th>825</th>\n",
              "      <td>825</td>\n",
              "      <td>C SH</td>\n",
              "      <td>CRAWFORD</td>\n",
              "      <td>3158.5</td>\n",
              "      <td>86.078</td>\n",
              "      <td>0.554</td>\n",
              "      <td>5.040</td>\n",
              "      <td>16.150</td>\n",
              "      <td>3.161</td>\n",
              "      <td>1</td>\n",
              "      <td>0.639</td>\n",
              "      <td>3</td>\n",
              "    </tr>\n",
              "    <tr>\n",
              "      <th>826</th>\n",
              "      <td>826</td>\n",
              "      <td>C SH</td>\n",
              "      <td>CRAWFORD</td>\n",
              "      <td>3159.0</td>\n",
              "      <td>88.855</td>\n",
              "      <td>0.539</td>\n",
              "      <td>5.560</td>\n",
              "      <td>16.750</td>\n",
              "      <td>3.118</td>\n",
              "      <td>1</td>\n",
              "      <td>0.611</td>\n",
              "      <td>3</td>\n",
              "    </tr>\n",
              "    <tr>\n",
              "      <th>827</th>\n",
              "      <td>827</td>\n",
              "      <td>C SH</td>\n",
              "      <td>CRAWFORD</td>\n",
              "      <td>3159.5</td>\n",
              "      <td>90.490</td>\n",
              "      <td>0.530</td>\n",
              "      <td>6.360</td>\n",
              "      <td>16.780</td>\n",
              "      <td>3.168</td>\n",
              "      <td>1</td>\n",
              "      <td>0.583</td>\n",
              "      <td>3</td>\n",
              "    </tr>\n",
              "    <tr>\n",
              "      <th>828</th>\n",
              "      <td>828</td>\n",
              "      <td>C SH</td>\n",
              "      <td>CRAWFORD</td>\n",
              "      <td>3160.0</td>\n",
              "      <td>90.975</td>\n",
              "      <td>0.522</td>\n",
              "      <td>7.035</td>\n",
              "      <td>16.995</td>\n",
              "      <td>3.154</td>\n",
              "      <td>1</td>\n",
              "      <td>0.556</td>\n",
              "      <td>3</td>\n",
              "    </tr>\n",
              "    <tr>\n",
              "      <th>829</th>\n",
              "      <td>829</td>\n",
              "      <td>C SH</td>\n",
              "      <td>CRAWFORD</td>\n",
              "      <td>3160.5</td>\n",
              "      <td>90.108</td>\n",
              "      <td>0.513</td>\n",
              "      <td>7.505</td>\n",
              "      <td>17.595</td>\n",
              "      <td>3.125</td>\n",
              "      <td>1</td>\n",
              "      <td>0.528</td>\n",
              "      <td>3</td>\n",
              "    </tr>\n",
              "  </tbody>\n",
              "</table>\n",
              "<p>830 rows × 12 columns</p>\n",
              "</div>"
            ],
            "text/plain": [
              "     Unnamed: 0 Formation Well Name   Depth  ...     PE  NM_M  RELPOS  Facies\n",
              "0             0     A1 SH    STUART  2808.0  ...  3.591     1   1.000       3\n",
              "1             1     A1 SH    STUART  2808.5  ...  3.341     1   0.978       3\n",
              "2             2     A1 SH    STUART  2809.0  ...  3.064     1   0.956       3\n",
              "3             3     A1 SH    STUART  2809.5  ...  2.977     1   0.933       3\n",
              "4             4     A1 SH    STUART  2810.0  ...  3.020     1   0.911       3\n",
              "..          ...       ...       ...     ...  ...    ...   ...     ...     ...\n",
              "825         825      C SH  CRAWFORD  3158.5  ...  3.161     1   0.639       3\n",
              "826         826      C SH  CRAWFORD  3159.0  ...  3.118     1   0.611       3\n",
              "827         827      C SH  CRAWFORD  3159.5  ...  3.168     1   0.583       3\n",
              "828         828      C SH  CRAWFORD  3160.0  ...  3.154     1   0.556       3\n",
              "829         829      C SH  CRAWFORD  3160.5  ...  3.125     1   0.528       3\n",
              "\n",
              "[830 rows x 12 columns]"
            ]
          },
          "metadata": {
            "tags": []
          },
          "execution_count": 205
        }
      ]
    },
    {
      "cell_type": "code",
      "metadata": {
        "id": "uMK8to0nCYUU"
      },
      "source": [
        "y_test = blind_['Facies'].values"
      ],
      "execution_count": 206,
      "outputs": []
    },
    {
      "cell_type": "code",
      "metadata": {
        "id": "CINaFYYtCoKi"
      },
      "source": [
        ""
      ],
      "execution_count": 206,
      "outputs": []
    },
    {
      "cell_type": "code",
      "metadata": {
        "id": "P1_CqtOeZB-Z"
      },
      "source": [
        "from sklearn import metrics\n",
        "from sklearn.metrics import f1_score\n",
        "from sklearn.metrics import precision_score\n",
        "from sklearn.metrics import recall_score"
      ],
      "execution_count": 207,
      "outputs": []
    },
    {
      "cell_type": "code",
      "metadata": {
        "colab": {
          "base_uri": "https://localhost:8080/"
        },
        "id": "xpv-Y_WwZB8Q",
        "outputId": "fd4e1a42-994a-43fe-bdb6-14a94d734919"
      },
      "source": [
        "print('confusion matrix')\n",
        "print(metrics.confusion_matrix(y_test, y_pred_1))\n",
        "print('classification report')\n",
        "print(metrics.classification_report(y_test, y_pred_1))\n",
        "print('Accuracy : %f' % (metrics.accuracy_score(y_test, y_pred_1)))\n",
        "print(precision_score(y_test, y_pred_1, average='weighted'))\n",
        "print(recall_score(y_test, y_pred_1, average='weighted'))\n",
        "print(f1_score(y_test, y_pred_1,average='weighted'))"
      ],
      "execution_count": 208,
      "outputs": [
        {
          "output_type": "stream",
          "text": [
            "confusion matrix\n",
            "[[  0  19   1   0   0   0   0   0   0]\n",
            " [  0 120  34   0   0   1   0   4   0]\n",
            " [  0  28  59  18   1   3  36   9   0]\n",
            " [  0   0   0  46   8   5   0   6   0]\n",
            " [  0   0   2   1  31   3   2  10   0]\n",
            " [  0   0   0  19   5  59   1  43   0]\n",
            " [  0   0   0   0   5   6  15   0   0]\n",
            " [  0   0   4   7   2  19   4 173   3]\n",
            " [  0   0   0   0   0   0   0  18   0]]\n",
            "classification report\n",
            "              precision    recall  f1-score   support\n",
            "\n",
            "           1       0.00      0.00      0.00        20\n",
            "           2       0.72      0.75      0.74       159\n",
            "           3       0.59      0.38      0.46       154\n",
            "           4       0.51      0.71      0.59        65\n",
            "           5       0.60      0.63      0.61        49\n",
            "           6       0.61      0.46      0.53       127\n",
            "           7       0.26      0.58      0.36        26\n",
            "           8       0.66      0.82      0.73       212\n",
            "           9       0.00      0.00      0.00        18\n",
            "\n",
            "    accuracy                           0.61       830\n",
            "   macro avg       0.44      0.48      0.45       830\n",
            "weighted avg       0.59      0.61      0.59       830\n",
            "\n",
            "Accuracy : 0.606024\n",
            "0.5920588808095505\n",
            "0.6060240963855422\n",
            "0.5878600412412627\n"
          ],
          "name": "stdout"
        },
        {
          "output_type": "stream",
          "text": [
            "/usr/local/lib/python3.6/dist-packages/sklearn/metrics/_classification.py:1272: UndefinedMetricWarning: Precision and F-score are ill-defined and being set to 0.0 in labels with no predicted samples. Use `zero_division` parameter to control this behavior.\n",
            "  _warn_prf(average, modifier, msg_start, len(result))\n",
            "/usr/local/lib/python3.6/dist-packages/sklearn/metrics/_classification.py:1272: UndefinedMetricWarning: Precision is ill-defined and being set to 0.0 in labels with no predicted samples. Use `zero_division` parameter to control this behavior.\n",
            "  _warn_prf(average, modifier, msg_start, len(result))\n"
          ],
          "name": "stderr"
        }
      ]
    },
    {
      "cell_type": "code",
      "metadata": {
        "id": "IDloLQi5ZB4I"
      },
      "source": [
        "import pandas as pd"
      ],
      "execution_count": 209,
      "outputs": []
    },
    {
      "cell_type": "code",
      "metadata": {
        "colab": {
          "base_uri": "https://localhost:8080/",
          "height": 347
        },
        "id": "PEJg7eyvZB0w",
        "outputId": "4c343be0-9c27-46eb-c605-aeaa05be30ab"
      },
      "source": [
        "pd.crosstab(y_test,y_pred_true,rownames=['label'],colnames=['prediction'])"
      ],
      "execution_count": 149,
      "outputs": [
        {
          "output_type": "execute_result",
          "data": {
            "text/html": [
              "<div>\n",
              "<style scoped>\n",
              "    .dataframe tbody tr th:only-of-type {\n",
              "        vertical-align: middle;\n",
              "    }\n",
              "\n",
              "    .dataframe tbody tr th {\n",
              "        vertical-align: top;\n",
              "    }\n",
              "\n",
              "    .dataframe thead th {\n",
              "        text-align: right;\n",
              "    }\n",
              "</style>\n",
              "<table border=\"1\" class=\"dataframe\">\n",
              "  <thead>\n",
              "    <tr style=\"text-align: right;\">\n",
              "      <th>prediction</th>\n",
              "      <th>1</th>\n",
              "      <th>2</th>\n",
              "      <th>3</th>\n",
              "      <th>4</th>\n",
              "      <th>5</th>\n",
              "      <th>6</th>\n",
              "      <th>7</th>\n",
              "      <th>8</th>\n",
              "    </tr>\n",
              "    <tr>\n",
              "      <th>label</th>\n",
              "      <th></th>\n",
              "      <th></th>\n",
              "      <th></th>\n",
              "      <th></th>\n",
              "      <th></th>\n",
              "      <th></th>\n",
              "      <th></th>\n",
              "      <th></th>\n",
              "    </tr>\n",
              "  </thead>\n",
              "  <tbody>\n",
              "    <tr>\n",
              "      <th>1</th>\n",
              "      <td>19</td>\n",
              "      <td>1</td>\n",
              "      <td>0</td>\n",
              "      <td>0</td>\n",
              "      <td>0</td>\n",
              "      <td>0</td>\n",
              "      <td>0</td>\n",
              "      <td>0</td>\n",
              "    </tr>\n",
              "    <tr>\n",
              "      <th>2</th>\n",
              "      <td>122</td>\n",
              "      <td>30</td>\n",
              "      <td>0</td>\n",
              "      <td>1</td>\n",
              "      <td>0</td>\n",
              "      <td>0</td>\n",
              "      <td>6</td>\n",
              "      <td>0</td>\n",
              "    </tr>\n",
              "    <tr>\n",
              "      <th>3</th>\n",
              "      <td>37</td>\n",
              "      <td>50</td>\n",
              "      <td>18</td>\n",
              "      <td>2</td>\n",
              "      <td>6</td>\n",
              "      <td>31</td>\n",
              "      <td>7</td>\n",
              "      <td>3</td>\n",
              "    </tr>\n",
              "    <tr>\n",
              "      <th>4</th>\n",
              "      <td>0</td>\n",
              "      <td>0</td>\n",
              "      <td>12</td>\n",
              "      <td>37</td>\n",
              "      <td>15</td>\n",
              "      <td>0</td>\n",
              "      <td>1</td>\n",
              "      <td>0</td>\n",
              "    </tr>\n",
              "    <tr>\n",
              "      <th>5</th>\n",
              "      <td>1</td>\n",
              "      <td>1</td>\n",
              "      <td>1</td>\n",
              "      <td>30</td>\n",
              "      <td>9</td>\n",
              "      <td>1</td>\n",
              "      <td>5</td>\n",
              "      <td>1</td>\n",
              "    </tr>\n",
              "    <tr>\n",
              "      <th>6</th>\n",
              "      <td>0</td>\n",
              "      <td>0</td>\n",
              "      <td>2</td>\n",
              "      <td>20</td>\n",
              "      <td>65</td>\n",
              "      <td>1</td>\n",
              "      <td>39</td>\n",
              "      <td>0</td>\n",
              "    </tr>\n",
              "    <tr>\n",
              "      <th>7</th>\n",
              "      <td>0</td>\n",
              "      <td>0</td>\n",
              "      <td>0</td>\n",
              "      <td>5</td>\n",
              "      <td>7</td>\n",
              "      <td>12</td>\n",
              "      <td>2</td>\n",
              "      <td>0</td>\n",
              "    </tr>\n",
              "    <tr>\n",
              "      <th>8</th>\n",
              "      <td>0</td>\n",
              "      <td>4</td>\n",
              "      <td>3</td>\n",
              "      <td>8</td>\n",
              "      <td>43</td>\n",
              "      <td>2</td>\n",
              "      <td>151</td>\n",
              "      <td>1</td>\n",
              "    </tr>\n",
              "    <tr>\n",
              "      <th>9</th>\n",
              "      <td>0</td>\n",
              "      <td>0</td>\n",
              "      <td>0</td>\n",
              "      <td>0</td>\n",
              "      <td>2</td>\n",
              "      <td>0</td>\n",
              "      <td>16</td>\n",
              "      <td>0</td>\n",
              "    </tr>\n",
              "  </tbody>\n",
              "</table>\n",
              "</div>"
            ],
            "text/plain": [
              "prediction    1   2   3   4   5   6    7  8\n",
              "label                                      \n",
              "1            19   1   0   0   0   0    0  0\n",
              "2           122  30   0   1   0   0    6  0\n",
              "3            37  50  18   2   6  31    7  3\n",
              "4             0   0  12  37  15   0    1  0\n",
              "5             1   1   1  30   9   1    5  1\n",
              "6             0   0   2  20  65   1   39  0\n",
              "7             0   0   0   5   7  12    2  0\n",
              "8             0   4   3   8  43   2  151  1\n",
              "9             0   0   0   0   2   0   16  0"
            ]
          },
          "metadata": {
            "tags": []
          },
          "execution_count": 149
        }
      ]
    },
    {
      "cell_type": "code",
      "metadata": {
        "colab": {
          "base_uri": "https://localhost:8080/",
          "height": 296
        },
        "id": "876RX2OHh6Gq",
        "outputId": "4015d52e-b826-4a70-afc7-1689540cbf17"
      },
      "source": [
        "import numpy as np\n",
        "import matplotlib.pyplot as plt\n",
        "classes = ['SS','CSiS','FSiS','SiSh','MS','WS','D','PS','BS']\n",
        "confusion_matrix = np.array([(2,17,1,0,0,0,0,0,0),(9,100,49,0,0,2,0,1,0),(0,27,63,16,2,1,30,7,4),(0,0,0,27,28,5,0,10,0),(0,0,3,0,23,16,1,20,0),(0,0,1,4,6,76,2,26,4),(0,0,0,0,2,4,15,2,0),(0,0,6,7,5,32,7,131,18),(0,0,0,0,0,0,0,14,4)],dtype=np.int64)\n",
        "plt.imshow(confusion_matrix, interpolation='nearest', cmap=plt.cm.Oranges)  #按照像素显示出矩阵\n",
        "#plt.title('confusion_matrix')\n",
        "plt.colorbar()\n",
        "tick_marks = np.arange(len(classes))\n",
        "plt.xticks(tick_marks, classes)\n",
        "plt.yticks(tick_marks, classes)\n",
        " \n",
        "thresh = confusion_matrix.max() / 2.\n",
        "#iters = [[i,j] for i in range(len(classes)) for j in range((classes))]\n",
        "#ij配对，遍历矩阵迭代器\n",
        "iters = np.reshape([[[i,j] for j in range(9)] for i in range(9)],(confusion_matrix.size,2))\n",
        "for i, j in iters:\n",
        "    plt.text(j, i, format(confusion_matrix[i, j]),va='center',ha='center')   #显示对应的数字\n",
        " \n",
        "plt.ylabel('Real label')\n",
        "plt.xlabel('Prediction')\n",
        "plt.tight_layout()\n",
        "plt.savefig(fname=\"STUART.svg\",format=\"svg\")"
      ],
      "execution_count": 117,
      "outputs": [
        {
          "output_type": "display_data",
          "data": {
            "image/png": "[encoded data removed]",
            "text/plain": [
              "<Figure size 432x288 with 2 Axes>"
            ]
          },
          "metadata": {
            "tags": [],
            "needs_background": "light"
          }
        }
      ]
    },
    {
      "cell_type": "code",
      "metadata": {
        "colab": {
          "base_uri": "https://localhost:8080/",
          "height": 33
        },
        "id": "f7uLcLcamNfI",
        "outputId": "6f749117-fa30-40da-a3c3-8321189ca7fe"
      },
      "source": [
        "plt.savefig(fname=\"STUART.svg\",format=\"svg\")"
      ],
      "execution_count": 118,
      "outputs": [
        {
          "output_type": "display_data",
          "data": {
            "text/plain": [
              "<Figure size 432x288 with 0 Axes>"
            ]
          },
          "metadata": {
            "tags": []
          }
        }
      ]
    },
    {
      "cell_type": "code",
      "metadata": {
        "id": "BwJDfT2S4vHn"
      },
      "source": [
        ""
      ],
      "execution_count": 118,
      "outputs": []
    }
  ]
}